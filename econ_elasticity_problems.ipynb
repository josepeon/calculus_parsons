{
  "cells": [
    {
      "cell_type": "markdown",
      "metadata": {
        "id": "view-in-github",
        "colab_type": "text"
      },
      "source": [
        "<a href=\"https://colab.research.google.com/github/josepeon/calculus_parsons/blob/main/econ_elasticity_problems.ipynb\" target=\"_parent\"><img src=\"https://colab.research.google.com/assets/colab-badge.svg\" alt=\"Open In Colab\"/></a>"
      ]
    },
    {
      "cell_type": "markdown",
      "metadata": {
        "id": "kt0mscirkJ2f"
      },
      "source": [
        "# Elasticity of Demand"
      ]
    },
    {
      "cell_type": "markdown",
      "metadata": {
        "id": "0ESgbJZOkJ2g"
      },
      "source": [
        "1. Silverman and Spruill related the retail price of heroin to the crime rate in Detroit by an equation of the type\n",
        "$$C  = 3351 p^{0.  2870}$$\n",
        "\n",
        "with c representing the number of property crimes reported monthly in Detroit, and p denoting the  price of  heroin  in  that city, in dollars per gram [Silverman and Spruill 1977].\n",
        "\n",
        "- Derive a linear equation between In(c) and In( p).\n",
        "- Find the elasticity of c with respect to p.\n",
        "-\tBy approximately what percentage does the rate of property crimes c rise if the price of heroin p rises by, sa y, 5%?\n"
      ]
    },
    {
      "cell_type": "code",
      "source": [],
      "metadata": {
        "id": "1PlvUiXCktBM"
      },
      "execution_count": null,
      "outputs": []
    },
    {
      "cell_type": "code",
      "source": [],
      "metadata": {
        "id": "RdA4S2qKks-U"
      },
      "execution_count": null,
      "outputs": []
    },
    {
      "cell_type": "code",
      "source": [],
      "metadata": {
        "id": "ZxJ7aFduks7j"
      },
      "execution_count": null,
      "outputs": []
    },
    {
      "cell_type": "code",
      "source": [],
      "metadata": {
        "id": "mWFyes3Zks44"
      },
      "execution_count": null,
      "outputs": []
    },
    {
      "cell_type": "code",
      "source": [],
      "metadata": {
        "id": "MoiPgUSCks2g"
      },
      "execution_count": null,
      "outputs": []
    },
    {
      "cell_type": "code",
      "source": [],
      "metadata": {
        "id": "zSFFfeJfkszH"
      },
      "execution_count": null,
      "outputs": []
    },
    {
      "cell_type": "markdown",
      "metadata": {
        "id": "9F2n4vq7kJ2g"
      },
      "source": [
        "2.\tThe above authors also related the price of heroin p  to the number C of such personal crimes as murders and rapes reported monthly in Detroit, by an equation of the form\n",
        "\n",
        "$$C = 207.8  p^{0.3 4 94}$$\n",
        "\n",
        "- Find the elasticity of C with respect to p.\n",
        "- By approximately what percentage does the rate of personal crimes C rise if the price of heroin p increases by, say , 5%?\n",
        "-\tAt an average retail price of $57.51 per  gram  of  heroin, which ra te is larger: that of property crimes, c (as in exercise 1), or that of personal crimes, C?\n"
      ]
    },
    {
      "cell_type": "markdown",
      "metadata": {
        "id": "CaqdPwcKkJ2g"
      },
      "source": [
        "4.\tNisbet and Vakil also fitted a linear demand equation of the following sort to the market for marijuana among UCLA students:\n",
        "$$q = - 0.225p + 3.74$$\n",
        "\n",
        "in which $p$ denotes the price of marijuana in dollars per ounce, and $q$ represents the average quantity purchased monthly in ounces per consumer according to Nisbet and Vakil.\n",
        "\n",
        "-\tExpress the price elasticity of demand, $\\eta$, by a formula in terms of $p$.\n",
        "-\tCompute the elasticity corresponding to the then-prevailing price of \\$10 per ounce.\n",
        "-\tBy approximately what percentage should the price of marijuana increase for the consumption to decrease by, say, 5% (from the prevailing level of 1.49 ounces per month down to 1.42)?\n",
        "-\tDetermine the price at which the demand for marijuana is unit elastic. In other words, find the price $p*$ such  that $\\eta(p*) = - 1.$\n"
      ]
    },
    {
      "cell_type": "markdown",
      "metadata": {
        "id": "dWxomLLMkJ2h"
      },
      "source": [
        "5. In two articles on the legalization of marijuana, Kleiman and Zeese argued about the effect of legalization on consumption.\n",
        "\n",
        "\n",
        "\n",
        "\n",
        "- Kleiman feared that legalizing marijuana might triple consumption. Suppose that  the  demand  equation  $q  = 15.4 p^{- 1.01 3}$ holds; by how much should\n",
        "the price decrease for consumption to triple?\n",
        "\n",
        "\n",
        "- Assume instead that the alternate demand equation $q = 0.225p + 3.74$ holds, and assume a current price of \\$10\n",
        "per ounce ; can consumption triple?\n",
        "\n",
        "- To avoid a huge increase in the consumption of marijuana\n",
        "Kleiman advocates raising taxes on wine and beer to reduce alcohol consumption and lower the rate of violent crime. Suppose that the formula $q = \\frac{l}{p} expresses the demand for beer;  by how much would the consumption of beer decrease after the imposition of an additional tax of, say, 20%?\n"
      ]
    },
    {
      "cell_type": "markdown",
      "metadata": {
        "id": "LlAXX3mMkJ2h"
      },
      "source": [
        "1. There are many other applications of Elasticity to both animal and human science.  For example, please see the article:\n",
        "\n",
        "*Elasticity in ecosystem services: exploring the variable relationship between ecosystems and human well-being*, by Daw, T. M. et al. in Ecology and Society"
      ]
    }
  ],
  "metadata": {
    "kernelspec": {
      "display_name": "Python 3",
      "language": "python",
      "name": "python3"
    },
    "language_info": {
      "codemirror_mode": {
        "name": "ipython",
        "version": 3
      },
      "file_extension": ".py",
      "mimetype": "text/x-python",
      "name": "python",
      "nbconvert_exporter": "python",
      "pygments_lexer": "ipython3",
      "version": "3.6.4"
    },
    "colab": {
      "provenance": [],
      "include_colab_link": true
    }
  },
  "nbformat": 4,
  "nbformat_minor": 0
}