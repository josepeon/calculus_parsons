{
  "nbformat": 4,
  "nbformat_minor": 0,
  "metadata": {
    "colab": {
      "provenance": [],
      "authorship_tag": "ABX9TyObGWKp1m8Rl5Qmsyrnel+/",
      "include_colab_link": true
    },
    "kernelspec": {
      "name": "python3",
      "display_name": "Python 3"
    },
    "language_info": {
      "name": "python"
    }
  },
  "cells": [
    {
      "cell_type": "markdown",
      "metadata": {
        "id": "view-in-github",
        "colab_type": "text"
      },
      "source": [
        "<a href=\"https://colab.research.google.com/github/josepeon/calculus_parsons/blob/main/neural_nets.ipynb\" target=\"_parent\"><img src=\"https://colab.research.google.com/assets/colab-badge.svg\" alt=\"Open In Colab\"/></a>"
      ]
    },
    {
      "cell_type": "code",
      "execution_count": 3,
      "metadata": {
        "id": "vkHU9O8gzaJD"
      },
      "outputs": [],
      "source": [
        "import pandas as pd\n",
        "import torch\n",
        "import torch.nn as nn\n",
        "import seaborn as sns"
      ]
    },
    {
      "cell_type": "code",
      "source": [
        "tips = sns.load_dataset('tips')"
      ],
      "metadata": {
        "id": "jAgwzk0hzkZx"
      },
      "execution_count": 4,
      "outputs": []
    },
    {
      "cell_type": "code",
      "source": [
        "tips.head()"
      ],
      "metadata": {
        "colab": {
          "base_uri": "https://localhost:8080/",
          "height": 206
        },
        "id": "S84WA7XDzqTa",
        "outputId": "dce2fecc-3da6-4688-cfd2-bc9fb75e509d"
      },
      "execution_count": 5,
      "outputs": [
        {
          "output_type": "execute_result",
          "data": {
            "text/plain": [
              "   total_bill   tip     sex smoker  day    time  size\n",
              "0       16.99  1.01  Female     No  Sun  Dinner     2\n",
              "1       10.34  1.66    Male     No  Sun  Dinner     3\n",
              "2       21.01  3.50    Male     No  Sun  Dinner     3\n",
              "3       23.68  3.31    Male     No  Sun  Dinner     2\n",
              "4       24.59  3.61  Female     No  Sun  Dinner     4"
            ],
            "text/html": [
              "\n",
              "  <div id=\"df-d127c657-828c-46e8-b732-6bc9ff58020b\" class=\"colab-df-container\">\n",
              "    <div>\n",
              "<style scoped>\n",
              "    .dataframe tbody tr th:only-of-type {\n",
              "        vertical-align: middle;\n",
              "    }\n",
              "\n",
              "    .dataframe tbody tr th {\n",
              "        vertical-align: top;\n",
              "    }\n",
              "\n",
              "    .dataframe thead th {\n",
              "        text-align: right;\n",
              "    }\n",
              "</style>\n",
              "<table border=\"1\" class=\"dataframe\">\n",
              "  <thead>\n",
              "    <tr style=\"text-align: right;\">\n",
              "      <th></th>\n",
              "      <th>total_bill</th>\n",
              "      <th>tip</th>\n",
              "      <th>sex</th>\n",
              "      <th>smoker</th>\n",
              "      <th>day</th>\n",
              "      <th>time</th>\n",
              "      <th>size</th>\n",
              "    </tr>\n",
              "  </thead>\n",
              "  <tbody>\n",
              "    <tr>\n",
              "      <th>0</th>\n",
              "      <td>16.99</td>\n",
              "      <td>1.01</td>\n",
              "      <td>Female</td>\n",
              "      <td>No</td>\n",
              "      <td>Sun</td>\n",
              "      <td>Dinner</td>\n",
              "      <td>2</td>\n",
              "    </tr>\n",
              "    <tr>\n",
              "      <th>1</th>\n",
              "      <td>10.34</td>\n",
              "      <td>1.66</td>\n",
              "      <td>Male</td>\n",
              "      <td>No</td>\n",
              "      <td>Sun</td>\n",
              "      <td>Dinner</td>\n",
              "      <td>3</td>\n",
              "    </tr>\n",
              "    <tr>\n",
              "      <th>2</th>\n",
              "      <td>21.01</td>\n",
              "      <td>3.50</td>\n",
              "      <td>Male</td>\n",
              "      <td>No</td>\n",
              "      <td>Sun</td>\n",
              "      <td>Dinner</td>\n",
              "      <td>3</td>\n",
              "    </tr>\n",
              "    <tr>\n",
              "      <th>3</th>\n",
              "      <td>23.68</td>\n",
              "      <td>3.31</td>\n",
              "      <td>Male</td>\n",
              "      <td>No</td>\n",
              "      <td>Sun</td>\n",
              "      <td>Dinner</td>\n",
              "      <td>2</td>\n",
              "    </tr>\n",
              "    <tr>\n",
              "      <th>4</th>\n",
              "      <td>24.59</td>\n",
              "      <td>3.61</td>\n",
              "      <td>Female</td>\n",
              "      <td>No</td>\n",
              "      <td>Sun</td>\n",
              "      <td>Dinner</td>\n",
              "      <td>4</td>\n",
              "    </tr>\n",
              "  </tbody>\n",
              "</table>\n",
              "</div>\n",
              "    <div class=\"colab-df-buttons\">\n",
              "\n",
              "  <div class=\"colab-df-container\">\n",
              "    <button class=\"colab-df-convert\" onclick=\"convertToInteractive('df-d127c657-828c-46e8-b732-6bc9ff58020b')\"\n",
              "            title=\"Convert this dataframe to an interactive table.\"\n",
              "            style=\"display:none;\">\n",
              "\n",
              "  <svg xmlns=\"http://www.w3.org/2000/svg\" height=\"24px\" viewBox=\"0 -960 960 960\">\n",
              "    <path d=\"M120-120v-720h720v720H120Zm60-500h600v-160H180v160Zm220 220h160v-160H400v160Zm0 220h160v-160H400v160ZM180-400h160v-160H180v160Zm440 0h160v-160H620v160ZM180-180h160v-160H180v160Zm440 0h160v-160H620v160Z\"/>\n",
              "  </svg>\n",
              "    </button>\n",
              "\n",
              "  <style>\n",
              "    .colab-df-container {\n",
              "      display:flex;\n",
              "      gap: 12px;\n",
              "    }\n",
              "\n",
              "    .colab-df-convert {\n",
              "      background-color: #E8F0FE;\n",
              "      border: none;\n",
              "      border-radius: 50%;\n",
              "      cursor: pointer;\n",
              "      display: none;\n",
              "      fill: #1967D2;\n",
              "      height: 32px;\n",
              "      padding: 0 0 0 0;\n",
              "      width: 32px;\n",
              "    }\n",
              "\n",
              "    .colab-df-convert:hover {\n",
              "      background-color: #E2EBFA;\n",
              "      box-shadow: 0px 1px 2px rgba(60, 64, 67, 0.3), 0px 1px 3px 1px rgba(60, 64, 67, 0.15);\n",
              "      fill: #174EA6;\n",
              "    }\n",
              "\n",
              "    .colab-df-buttons div {\n",
              "      margin-bottom: 4px;\n",
              "    }\n",
              "\n",
              "    [theme=dark] .colab-df-convert {\n",
              "      background-color: #3B4455;\n",
              "      fill: #D2E3FC;\n",
              "    }\n",
              "\n",
              "    [theme=dark] .colab-df-convert:hover {\n",
              "      background-color: #434B5C;\n",
              "      box-shadow: 0px 1px 3px 1px rgba(0, 0, 0, 0.15);\n",
              "      filter: drop-shadow(0px 1px 2px rgba(0, 0, 0, 0.3));\n",
              "      fill: #FFFFFF;\n",
              "    }\n",
              "  </style>\n",
              "\n",
              "    <script>\n",
              "      const buttonEl =\n",
              "        document.querySelector('#df-d127c657-828c-46e8-b732-6bc9ff58020b button.colab-df-convert');\n",
              "      buttonEl.style.display =\n",
              "        google.colab.kernel.accessAllowed ? 'block' : 'none';\n",
              "\n",
              "      async function convertToInteractive(key) {\n",
              "        const element = document.querySelector('#df-d127c657-828c-46e8-b732-6bc9ff58020b');\n",
              "        const dataTable =\n",
              "          await google.colab.kernel.invokeFunction('convertToInteractive',\n",
              "                                                    [key], {});\n",
              "        if (!dataTable) return;\n",
              "\n",
              "        const docLinkHtml = 'Like what you see? Visit the ' +\n",
              "          '<a target=\"_blank\" href=https://colab.research.google.com/notebooks/data_table.ipynb>data table notebook</a>'\n",
              "          + ' to learn more about interactive tables.';\n",
              "        element.innerHTML = '';\n",
              "        dataTable['output_type'] = 'display_data';\n",
              "        await google.colab.output.renderOutput(dataTable, element);\n",
              "        const docLink = document.createElement('div');\n",
              "        docLink.innerHTML = docLinkHtml;\n",
              "        element.appendChild(docLink);\n",
              "      }\n",
              "    </script>\n",
              "  </div>\n",
              "\n",
              "\n",
              "    <div id=\"df-56e4c03c-1685-4c0f-81e1-b5b081f1cb5a\">\n",
              "      <button class=\"colab-df-quickchart\" onclick=\"quickchart('df-56e4c03c-1685-4c0f-81e1-b5b081f1cb5a')\"\n",
              "                title=\"Suggest charts\"\n",
              "                style=\"display:none;\">\n",
              "\n",
              "<svg xmlns=\"http://www.w3.org/2000/svg\" height=\"24px\"viewBox=\"0 0 24 24\"\n",
              "     width=\"24px\">\n",
              "    <g>\n",
              "        <path d=\"M19 3H5c-1.1 0-2 .9-2 2v14c0 1.1.9 2 2 2h14c1.1 0 2-.9 2-2V5c0-1.1-.9-2-2-2zM9 17H7v-7h2v7zm4 0h-2V7h2v10zm4 0h-2v-4h2v4z\"/>\n",
              "    </g>\n",
              "</svg>\n",
              "      </button>\n",
              "\n",
              "<style>\n",
              "  .colab-df-quickchart {\n",
              "      --bg-color: #E8F0FE;\n",
              "      --fill-color: #1967D2;\n",
              "      --hover-bg-color: #E2EBFA;\n",
              "      --hover-fill-color: #174EA6;\n",
              "      --disabled-fill-color: #AAA;\n",
              "      --disabled-bg-color: #DDD;\n",
              "  }\n",
              "\n",
              "  [theme=dark] .colab-df-quickchart {\n",
              "      --bg-color: #3B4455;\n",
              "      --fill-color: #D2E3FC;\n",
              "      --hover-bg-color: #434B5C;\n",
              "      --hover-fill-color: #FFFFFF;\n",
              "      --disabled-bg-color: #3B4455;\n",
              "      --disabled-fill-color: #666;\n",
              "  }\n",
              "\n",
              "  .colab-df-quickchart {\n",
              "    background-color: var(--bg-color);\n",
              "    border: none;\n",
              "    border-radius: 50%;\n",
              "    cursor: pointer;\n",
              "    display: none;\n",
              "    fill: var(--fill-color);\n",
              "    height: 32px;\n",
              "    padding: 0;\n",
              "    width: 32px;\n",
              "  }\n",
              "\n",
              "  .colab-df-quickchart:hover {\n",
              "    background-color: var(--hover-bg-color);\n",
              "    box-shadow: 0 1px 2px rgba(60, 64, 67, 0.3), 0 1px 3px 1px rgba(60, 64, 67, 0.15);\n",
              "    fill: var(--button-hover-fill-color);\n",
              "  }\n",
              "\n",
              "  .colab-df-quickchart-complete:disabled,\n",
              "  .colab-df-quickchart-complete:disabled:hover {\n",
              "    background-color: var(--disabled-bg-color);\n",
              "    fill: var(--disabled-fill-color);\n",
              "    box-shadow: none;\n",
              "  }\n",
              "\n",
              "  .colab-df-spinner {\n",
              "    border: 2px solid var(--fill-color);\n",
              "    border-color: transparent;\n",
              "    border-bottom-color: var(--fill-color);\n",
              "    animation:\n",
              "      spin 1s steps(1) infinite;\n",
              "  }\n",
              "\n",
              "  @keyframes spin {\n",
              "    0% {\n",
              "      border-color: transparent;\n",
              "      border-bottom-color: var(--fill-color);\n",
              "      border-left-color: var(--fill-color);\n",
              "    }\n",
              "    20% {\n",
              "      border-color: transparent;\n",
              "      border-left-color: var(--fill-color);\n",
              "      border-top-color: var(--fill-color);\n",
              "    }\n",
              "    30% {\n",
              "      border-color: transparent;\n",
              "      border-left-color: var(--fill-color);\n",
              "      border-top-color: var(--fill-color);\n",
              "      border-right-color: var(--fill-color);\n",
              "    }\n",
              "    40% {\n",
              "      border-color: transparent;\n",
              "      border-right-color: var(--fill-color);\n",
              "      border-top-color: var(--fill-color);\n",
              "    }\n",
              "    60% {\n",
              "      border-color: transparent;\n",
              "      border-right-color: var(--fill-color);\n",
              "    }\n",
              "    80% {\n",
              "      border-color: transparent;\n",
              "      border-right-color: var(--fill-color);\n",
              "      border-bottom-color: var(--fill-color);\n",
              "    }\n",
              "    90% {\n",
              "      border-color: transparent;\n",
              "      border-bottom-color: var(--fill-color);\n",
              "    }\n",
              "  }\n",
              "</style>\n",
              "\n",
              "      <script>\n",
              "        async function quickchart(key) {\n",
              "          const quickchartButtonEl =\n",
              "            document.querySelector('#' + key + ' button');\n",
              "          quickchartButtonEl.disabled = true;  // To prevent multiple clicks.\n",
              "          quickchartButtonEl.classList.add('colab-df-spinner');\n",
              "          try {\n",
              "            const charts = await google.colab.kernel.invokeFunction(\n",
              "                'suggestCharts', [key], {});\n",
              "          } catch (error) {\n",
              "            console.error('Error during call to suggestCharts:', error);\n",
              "          }\n",
              "          quickchartButtonEl.classList.remove('colab-df-spinner');\n",
              "          quickchartButtonEl.classList.add('colab-df-quickchart-complete');\n",
              "        }\n",
              "        (() => {\n",
              "          let quickchartButtonEl =\n",
              "            document.querySelector('#df-56e4c03c-1685-4c0f-81e1-b5b081f1cb5a button');\n",
              "          quickchartButtonEl.style.display =\n",
              "            google.colab.kernel.accessAllowed ? 'block' : 'none';\n",
              "        })();\n",
              "      </script>\n",
              "    </div>\n",
              "\n",
              "    </div>\n",
              "  </div>\n"
            ],
            "application/vnd.google.colaboratory.intrinsic+json": {
              "type": "dataframe",
              "variable_name": "tips",
              "summary": "{\n  \"name\": \"tips\",\n  \"rows\": 244,\n  \"fields\": [\n    {\n      \"column\": \"total_bill\",\n      \"properties\": {\n        \"dtype\": \"number\",\n        \"std\": 8.902411954856856,\n        \"min\": 3.07,\n        \"max\": 50.81,\n        \"num_unique_values\": 229,\n        \"samples\": [\n          22.12,\n          20.23,\n          14.78\n        ],\n        \"semantic_type\": \"\",\n        \"description\": \"\"\n      }\n    },\n    {\n      \"column\": \"tip\",\n      \"properties\": {\n        \"dtype\": \"number\",\n        \"std\": 1.3836381890011826,\n        \"min\": 1.0,\n        \"max\": 10.0,\n        \"num_unique_values\": 123,\n        \"samples\": [\n          3.35,\n          1.5,\n          6.73\n        ],\n        \"semantic_type\": \"\",\n        \"description\": \"\"\n      }\n    },\n    {\n      \"column\": \"sex\",\n      \"properties\": {\n        \"dtype\": \"category\",\n        \"num_unique_values\": 2,\n        \"samples\": [\n          \"Male\",\n          \"Female\"\n        ],\n        \"semantic_type\": \"\",\n        \"description\": \"\"\n      }\n    },\n    {\n      \"column\": \"smoker\",\n      \"properties\": {\n        \"dtype\": \"category\",\n        \"num_unique_values\": 2,\n        \"samples\": [\n          \"Yes\",\n          \"No\"\n        ],\n        \"semantic_type\": \"\",\n        \"description\": \"\"\n      }\n    },\n    {\n      \"column\": \"day\",\n      \"properties\": {\n        \"dtype\": \"category\",\n        \"num_unique_values\": 4,\n        \"samples\": [\n          \"Sat\",\n          \"Fri\"\n        ],\n        \"semantic_type\": \"\",\n        \"description\": \"\"\n      }\n    },\n    {\n      \"column\": \"time\",\n      \"properties\": {\n        \"dtype\": \"category\",\n        \"num_unique_values\": 2,\n        \"samples\": [\n          \"Lunch\",\n          \"Dinner\"\n        ],\n        \"semantic_type\": \"\",\n        \"description\": \"\"\n      }\n    },\n    {\n      \"column\": \"size\",\n      \"properties\": {\n        \"dtype\": \"number\",\n        \"std\": 0,\n        \"min\": 1,\n        \"max\": 6,\n        \"num_unique_values\": 6,\n        \"samples\": [\n          2,\n          3\n        ],\n        \"semantic_type\": \"\",\n        \"description\": \"\"\n      }\n    }\n  ]\n}"
            }
          },
          "metadata": {},
          "execution_count": 5
        }
      ]
    },
    {
      "cell_type": "code",
      "source": [
        "X = tips[['total_bill']]\n",
        "y = tips['tip']"
      ],
      "metadata": {
        "id": "JKNZUrzozyjL"
      },
      "execution_count": 14,
      "outputs": []
    },
    {
      "cell_type": "code",
      "source": [
        "model = nn.Linear(in_features = 1, out_features = 1)"
      ],
      "metadata": {
        "id": "i5NcSu5pz9KQ"
      },
      "execution_count": 15,
      "outputs": []
    },
    {
      "cell_type": "code",
      "source": [
        "list(model.parameters())"
      ],
      "metadata": {
        "colab": {
          "base_uri": "https://localhost:8080/"
        },
        "id": "DwKmPXFaz_nr",
        "outputId": "b209fcc5-73a1-4e67-9c5c-1d8ee184c903"
      },
      "execution_count": 16,
      "outputs": [
        {
          "output_type": "execute_result",
          "data": {
            "text/plain": [
              "[Parameter containing:\n",
              " tensor([[0.5079]], requires_grad=True),\n",
              " Parameter containing:\n",
              " tensor([-0.5964], requires_grad=True)]"
            ]
          },
          "metadata": {},
          "execution_count": 16
        }
      ]
    },
    {
      "cell_type": "code",
      "source": [
        "#Turn into Pytorch tensors\n",
        "xt = torch.tensor(X.values, dtype = torch.float32)\n",
        "yt = torch.tensor(y.values, dtype = torch.float32)"
      ],
      "metadata": {
        "id": "vpHIqHp-0fnS"
      },
      "execution_count": 17,
      "outputs": []
    },
    {
      "cell_type": "code",
      "source": [
        "model(xt)"
      ],
      "metadata": {
        "colab": {
          "base_uri": "https://localhost:8080/"
        },
        "id": "wJJeezlJ0x5p",
        "outputId": "8c221169-6287-444f-ab16-9d9eefdb9427"
      },
      "execution_count": 18,
      "outputs": [
        {
          "output_type": "execute_result",
          "data": {
            "text/plain": [
              "tensor([[ 8.0321],\n",
              "        [ 4.6548],\n",
              "        [10.0737],\n",
              "        [11.4296],\n",
              "        [11.8918],\n",
              "        [12.2473],\n",
              "        [ 3.8575],\n",
              "        [13.0548],\n",
              "        [ 7.0417],\n",
              "        [ 6.9097],\n",
              "        [ 4.6193],\n",
              "        [17.3106],\n",
              "        [ 7.2347],\n",
              "        [ 8.7634],\n",
              "        [ 6.9351],\n",
              "        [10.3631],\n",
              "        [ 4.6497],\n",
              "        [ 7.6766],\n",
              "        [ 8.0219],\n",
              "        [ 9.8908],\n",
              "        [ 8.5044],\n",
              "        [ 9.7080],\n",
              "        [ 7.4125],\n",
              "        [19.4233],\n",
              "        [ 9.4693],\n",
              "        [ 8.4485],\n",
              "        [ 6.1936],\n",
              "        [ 5.8483],\n",
              "        [10.4241],\n",
              "        [ 9.3830],\n",
              "        [ 4.2536],\n",
              "        [ 8.7228],\n",
              "        [ 7.0519],\n",
              "        [ 9.9111],\n",
              "        [ 8.4333],\n",
              "        [11.6226],\n",
              "        [ 7.6867],\n",
              "        [ 8.0016],\n",
              "        [ 8.8954],\n",
              "        [15.2843],\n",
              "        [ 7.5496],\n",
              "        [ 8.2708],\n",
              "        [ 6.4831],\n",
              "        [ 4.3196],\n",
              "        [14.8424],\n",
              "        [ 8.6923],\n",
              "        [10.6932],\n",
              "        [15.8582],\n",
              "        [13.9029],\n",
              "        [ 8.5653],\n",
              "        [ 5.7721],\n",
              "        [ 4.6294],\n",
              "        [17.0821],\n",
              "        [ 4.4517],\n",
              "        [12.3844],\n",
              "        [ 9.3017],\n",
              "        [18.7072],\n",
              "        [12.8161],\n",
              "        [ 5.1119],\n",
              "        [23.9179],\n",
              "        [ 9.7080],\n",
              "        [ 6.4171],\n",
              "        [ 5.0002],\n",
              "        [ 8.6923],\n",
              "        [ 8.3368],\n",
              "        [ 9.6013],\n",
              "        [ 7.7578],\n",
              "        [ 0.9627],\n",
              "        [ 9.6775],\n",
              "        [ 7.0265],\n",
              "        [ 5.5080],\n",
              "        [ 8.0727],\n",
              "        [13.0446],\n",
              "        [12.2422],\n",
              "        [ 6.8843],\n",
              "        [ 4.7411],\n",
              "        [ 8.5044],\n",
              "        [13.2173],\n",
              "        [10.9624],\n",
              "        [ 8.1844],\n",
              "        [ 9.2763],\n",
              "        [ 7.8645],\n",
              "        [ 4.5177],\n",
              "        [16.0004],\n",
              "        [ 7.5191],\n",
              "        [17.0923],\n",
              "        [ 6.0209],\n",
              "        [ 8.6872],\n",
              "        [11.9527],\n",
              "        [10.1498],\n",
              "        [14.1162],\n",
              "        [10.8253],\n",
              "        [ 2.3237],\n",
              "        [ 7.6918],\n",
              "        [10.9573],\n",
              "        [19.8042],\n",
              "        [13.2579],\n",
              "        [ 5.5131],\n",
              "        [10.0737],\n",
              "        [ 5.7315],\n",
              "        [ 5.1677],\n",
              "        [ 7.2144],\n",
              "        [21.9017],\n",
              "        [10.7897],\n",
              "        [10.0279],\n",
              "        [ 7.2043],\n",
              "        [ 9.8096],\n",
              "        [12.2067],\n",
              "        [ 8.6669],\n",
              "        [ 6.6710],\n",
              "        [ 6.5136],\n",
              "        [ 3.0855],\n",
              "        [18.7377],\n",
              "        [11.5668],\n",
              "        [12.4606],\n",
              "        [ 8.1946],\n",
              "        [14.6038],\n",
              "        [ 4.8122],\n",
              "        [ 5.7162],\n",
              "        [11.6328],\n",
              "        [ 5.3404],\n",
              "        [ 6.2190],\n",
              "        [ 6.6456],\n",
              "        [ 7.5039],\n",
              "        [ 5.7416],\n",
              "        [14.5377],\n",
              "        [ 3.7305],\n",
              "        [ 6.7777],\n",
              "        [ 5.1830],\n",
              "        [10.9929],\n",
              "        [ 9.0935],\n",
              "        [ 9.6978],\n",
              "        [ 5.0763],\n",
              "        [ 5.6299],\n",
              "        [ 8.6770],\n",
              "        [ 3.7254],\n",
              "        [ 4.6497],\n",
              "        [ 6.5897],\n",
              "        [ 7.5293],\n",
              "        [ 6.0870],\n",
              "        [ 8.2758],\n",
              "        [16.8231],\n",
              "        [20.3222],\n",
              "        [13.1411],\n",
              "        [ 7.7477],\n",
              "        [ 3.6442],\n",
              "        [ 8.8700],\n",
              "        [ 5.4318],\n",
              "        [ 4.3704],\n",
              "        [ 3.2176],\n",
              "        [ 6.5491],\n",
              "        [ 6.0717],\n",
              "        [ 8.1692],\n",
              "        [11.8715],\n",
              "        [ 9.4439],\n",
              "        [14.5631],\n",
              "        [23.8671],\n",
              "        [12.1000],\n",
              "        [ 6.2038],\n",
              "        [ 7.7781],\n",
              "        [10.3225],\n",
              "        [ 5.8330],\n",
              "        [ 7.6359],\n",
              "        [ 6.4171],\n",
              "        [ 8.2962],\n",
              "        [11.8562],\n",
              "        [ 9.9467],\n",
              "        [15.5077],\n",
              "        [ 4.7818],\n",
              "        [ 4.8021],\n",
              "        [25.2078],\n",
              "        [ 7.4328],\n",
              "        [ 3.0855],\n",
              "        [15.5788],\n",
              "        [ 7.9457],\n",
              "        [16.1121],\n",
              "        [ 8.4891],\n",
              "        [ 6.7573],\n",
              "        [ 4.2790],\n",
              "        [16.9907],\n",
              "        [17.0008],\n",
              "        [11.2519],\n",
              "        [22.4349],\n",
              "        [11.1706],\n",
              "        [19.9972],\n",
              "        [ 9.9111],\n",
              "        [10.0178],\n",
              "        [14.8729],\n",
              "        [ 8.6212],\n",
              "        [11.1351],\n",
              "        [ 7.3719],\n",
              "        [ 9.4642],\n",
              "        [13.8470],\n",
              "        [ 7.2652],\n",
              "        [ 7.8238],\n",
              "        [ 3.2430],\n",
              "        [ 4.6548],\n",
              "        [21.2973],\n",
              "        [ 6.0057],\n",
              "        [ 6.2647],\n",
              "        [ 8.9056],\n",
              "        [ 5.8737],\n",
              "        [ 6.0057],\n",
              "        [ 7.7324],\n",
              "        [ 9.8299],\n",
              "        [ 7.7680],\n",
              "        [12.9075],\n",
              "        [19.0729],\n",
              "        [11.7293],\n",
              "        [ 5.8838],\n",
              "        [14.6698],\n",
              "        [12.5520],\n",
              "        [23.9483],\n",
              "        [ 6.1428],\n",
              "        [13.7099],\n",
              "        [ 5.9549],\n",
              "        [13.6998],\n",
              "        [ 5.2896],\n",
              "        [ 3.3344],\n",
              "        [14.7104],\n",
              "        [ 5.5791],\n",
              "        [ 6.2190],\n",
              "        [ 3.7610],\n",
              "        [ 7.5191],\n",
              "        [ 6.2190],\n",
              "        [ 7.6664],\n",
              "        [ 4.5278],\n",
              "        [ 9.7893],\n",
              "        [ 6.1479],\n",
              "        [10.6374],\n",
              "        [11.5972],\n",
              "        [ 7.3719],\n",
              "        [ 5.2998],\n",
              "        [ 4.8732],\n",
              "        [ 7.2906],\n",
              "        [ 4.5177],\n",
              "        [ 5.8026],\n",
              "        [16.0765],\n",
              "        [17.6001],\n",
              "        [14.1467],\n",
              "        [13.2071],\n",
              "        [10.9167],\n",
              "        [ 8.4536],\n",
              "        [ 8.9411]], grad_fn=<AddmmBackward0>)"
            ]
          },
          "metadata": {},
          "execution_count": 18
        }
      ]
    },
    {
      "cell_type": "code",
      "source": [
        "mse = nn.MSELoss()"
      ],
      "metadata": {
        "id": "AEMlQKcd07DM"
      },
      "execution_count": 19,
      "outputs": []
    },
    {
      "cell_type": "code",
      "source": [
        "yhat = model(xt)"
      ],
      "metadata": {
        "id": "18Es9oY41-Vt"
      },
      "execution_count": 20,
      "outputs": []
    },
    {
      "cell_type": "code",
      "source": [
        "mse(yt, yhat)"
      ],
      "metadata": {
        "colab": {
          "base_uri": "https://localhost:8080/"
        },
        "id": "wRI_GEQF2AJ_",
        "outputId": "b6b01f00-6fd1-41c1-c64e-46e9ff5d7cbc"
      },
      "execution_count": 22,
      "outputs": [
        {
          "output_type": "stream",
          "name": "stderr",
          "text": [
            "/usr/local/lib/python3.12/dist-packages/torch/nn/modules/loss.py:616: UserWarning: Using a target size (torch.Size([244, 1])) that is different to the input size (torch.Size([244])). This will likely lead to incorrect results due to broadcasting. Please ensure they have the same size.\n",
            "  return F.mse_loss(input, target, reduction=self.reduction)\n"
          ]
        },
        {
          "output_type": "execute_result",
          "data": {
            "text/plain": [
              "tensor(63.9144, grad_fn=<MseLossBackward0>)"
            ]
          },
          "metadata": {},
          "execution_count": 22
        }
      ]
    },
    {
      "cell_type": "code",
      "source": [
        "loss = mse(yt, yhat)"
      ],
      "metadata": {
        "colab": {
          "base_uri": "https://localhost:8080/"
        },
        "id": "6hqwg-Ck2EhV",
        "outputId": "46731249-1084-47ac-f55a-d9e0f98091ec"
      },
      "execution_count": 24,
      "outputs": [
        {
          "output_type": "stream",
          "name": "stderr",
          "text": [
            "/usr/local/lib/python3.12/dist-packages/torch/nn/modules/loss.py:616: UserWarning: Using a target size (torch.Size([244, 1])) that is different to the input size (torch.Size([244])). This will likely lead to incorrect results due to broadcasting. Please ensure they have the same size.\n",
            "  return F.mse_loss(input, target, reduction=self.reduction)\n"
          ]
        }
      ]
    },
    {
      "cell_type": "code",
      "source": [
        "loss.backward()"
      ],
      "metadata": {
        "id": "D4gEFLmH2c2A"
      },
      "execution_count": 26,
      "outputs": []
    },
    {
      "cell_type": "code",
      "source": [
        "import torch.optim as optim"
      ],
      "metadata": {
        "id": "hA5DxSrm2gbH"
      },
      "execution_count": 27,
      "outputs": []
    },
    {
      "cell_type": "code",
      "source": [
        "optimizer = optim.SGD(model.parameters(), lr = 0.01)"
      ],
      "metadata": {
        "id": "Ia8yynGM2yV1"
      },
      "execution_count": 28,
      "outputs": []
    },
    {
      "cell_type": "code",
      "source": [
        "yhat = model(xt) #make predictions\n",
        "loss = (mse(yt, yhat)) #evaluate errors\n",
        "loss.backward() #computes derivatives\n",
        "optimizer.step() #steps down loss function one iteration"
      ],
      "metadata": {
        "colab": {
          "base_uri": "https://localhost:8080/"
        },
        "id": "ZmymskTk3Fs8",
        "outputId": "0c468e53-d2fe-472c-eaa3-978265400b9e"
      },
      "execution_count": 29,
      "outputs": [
        {
          "output_type": "stream",
          "name": "stderr",
          "text": [
            "/usr/local/lib/python3.12/dist-packages/torch/nn/modules/loss.py:616: UserWarning: Using a target size (torch.Size([244, 1])) that is different to the input size (torch.Size([244])). This will likely lead to incorrect results due to broadcasting. Please ensure they have the same size.\n",
            "  return F.mse_loss(input, target, reduction=self.reduction)\n"
          ]
        }
      ]
    },
    {
      "cell_type": "code",
      "source": [
        "list(model.parameters())"
      ],
      "metadata": {
        "colab": {
          "base_uri": "https://localhost:8080/"
        },
        "id": "lOqJ7ReB3gH_",
        "outputId": "50d3643f-3541-4680-fff5-458bc06447e1"
      },
      "execution_count": 30,
      "outputs": [
        {
          "output_type": "execute_result",
          "data": {
            "text/plain": [
              "[Parameter containing:\n",
              " tensor([[-6.2032]], requires_grad=True),\n",
              " Parameter containing:\n",
              " tensor([-0.8546], requires_grad=True)]"
            ]
          },
          "metadata": {},
          "execution_count": 30
        }
      ]
    },
    {
      "cell_type": "code",
      "source": [
        "new_yhat = model(xt)"
      ],
      "metadata": {
        "id": "9kFB2a1R3jya"
      },
      "execution_count": 33,
      "outputs": []
    },
    {
      "cell_type": "code",
      "source": [
        "mse(yt, new_yhat)"
      ],
      "metadata": {
        "colab": {
          "base_uri": "https://localhost:8080/"
        },
        "id": "nohb0QzT3uqB",
        "outputId": "4a269df8-64f3-4752-e29f-2cf75051e6a9"
      },
      "execution_count": 34,
      "outputs": [
        {
          "output_type": "execute_result",
          "data": {
            "text/plain": [
              "tensor(19064.0488, grad_fn=<MseLossBackward0>)"
            ]
          },
          "metadata": {},
          "execution_count": 34
        }
      ]
    },
    {
      "cell_type": "code",
      "source": [
        "losses = []"
      ],
      "metadata": {
        "id": "9W9jjFan31sO"
      },
      "execution_count": null,
      "outputs": []
    }
  ]
}