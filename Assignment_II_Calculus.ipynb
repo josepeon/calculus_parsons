{
  "nbformat": 4,
  "nbformat_minor": 0,
  "metadata": {
    "colab": {
      "provenance": [],
      "authorship_tag": "ABX9TyPlFnrVTIOPtTYxyHvrKh0S",
      "include_colab_link": true
    },
    "kernelspec": {
      "name": "python3",
      "display_name": "Python 3"
    },
    "language_info": {
      "name": "python"
    }
  },
  "cells": [
    {
      "cell_type": "markdown",
      "metadata": {
        "id": "view-in-github",
        "colab_type": "text"
      },
      "source": [
        "<a href=\"https://colab.research.google.com/github/josepeon/calculus_parsons/blob/main/Assignment_II_Calculus.ipynb\" target=\"_parent\"><img src=\"https://colab.research.google.com/assets/colab-badge.svg\" alt=\"Open In Colab\"/></a>"
      ]
    },
    {
      "cell_type": "markdown",
      "source": [
        "##Origing of Calculus\n",
        "###Perkins 01"
      ],
      "metadata": {
        "id": "umW7nT1lCUW5"
      }
    },
    {
      "cell_type": "markdown",
      "source": [
        "1.1 a, b"
      ],
      "metadata": {
        "id": "ds4EqGI_CUTY"
      }
    },
    {
      "cell_type": "markdown",
      "source": [
        "$$\n",
        "A = \\frac{\\sqrt{3}}{4}a^2 = \\frac{\\sqrt{3}}{4}(1)^2 = \\frac{\\sqrt{3}}{4}\n",
        "$$\n",
        "Six Equilateral Triangles\n",
        "$$\n",
        "6 \\times \\frac{\\sqrt{3}}{4} = \\frac{3\\sqrt{3}}{2} \\approx 2.598\n",
        "$$\n"
      ],
      "metadata": {
        "id": "hJ6C3dXiCUMW"
      }
    },
    {
      "cell_type": "markdown",
      "source": [
        "b.\n",
        "\n",
        "$$\n",
        "\\tan(30°) = \\frac{s/2}{1}\n",
        "$$\n",
        "Solve for s:\n",
        "$$\n",
        "s = 2\\tan(30°) = 2 \\times \\frac{1}{\\sqrt{3}} = \\frac{2}{\\sqrt{3}}\n",
        "$$\n",
        "Perimeter:\n",
        "$$\n",
        "P = 6s = 6 \\times \\frac{2}{\\sqrt{3}} = \\frac{12}{\\sqrt{3}} = 4\\sqrt{3}\n",
        "$$"
      ],
      "metadata": {
        "id": "U_u46yLwDiF-"
      }
    },
    {
      "cell_type": "markdown",
      "source": [
        "Area:\n",
        "$$\n",
        "A = \\frac{1}{2} (4\\sqrt{3})(1) = 2\\sqrt{3} \\approx 3.464\n",
        "$$"
      ],
      "metadata": {
        "id": "JQmtDtb_F8K7"
      }
    },
    {
      "cell_type": "code",
      "source": [],
      "metadata": {
        "id": "i3N_knWcF9sP"
      },
      "execution_count": null,
      "outputs": []
    },
    {
      "cell_type": "code",
      "source": [],
      "metadata": {
        "id": "zAgbfKxsF9PY"
      },
      "execution_count": null,
      "outputs": []
    }
  ]
}