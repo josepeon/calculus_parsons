{
  "nbformat": 4,
  "nbformat_minor": 0,
  "metadata": {
    "colab": {
      "provenance": [],
      "authorship_tag": "ABX9TyPcBwLtikIuy0640HnNDWuX",
      "include_colab_link": true
    },
    "kernelspec": {
      "name": "python3",
      "display_name": "Python 3"
    },
    "language_info": {
      "name": "python"
    }
  },
  "cells": [
    {
      "cell_type": "markdown",
      "metadata": {
        "id": "view-in-github",
        "colab_type": "text"
      },
      "source": [
        "<a href=\"https://colab.research.google.com/github/josepeon/calculus_parsons/blob/main/Assignment_II_Calculus.ipynb\" target=\"_parent\"><img src=\"https://colab.research.google.com/assets/colab-badge.svg\" alt=\"Open In Colab\"/></a>"
      ]
    },
    {
      "cell_type": "markdown",
      "source": [
        "##Origing of Calculus\n",
        "###Perkins 01"
      ],
      "metadata": {
        "id": "umW7nT1lCUW5"
      }
    },
    {
      "cell_type": "markdown",
      "source": [
        "1.1 a, b"
      ],
      "metadata": {
        "id": "ds4EqGI_CUTY"
      }
    },
    {
      "cell_type": "markdown",
      "source": [
        "$$\n",
        "A = \\frac{\\sqrt{3}}{4}a^2 = \\frac{\\sqrt{3}}{4}(1)^2 = \\frac{\\sqrt{3}}{4}\n",
        "$$\n",
        "Six Equilateral Triangles\n",
        "$$\n",
        "6 \\times \\frac{\\sqrt{3}}{4} = \\frac{3\\sqrt{3}}{2} \\approx 2.598\n",
        "$$\n"
      ],
      "metadata": {
        "id": "hJ6C3dXiCUMW"
      }
    },
    {
      "cell_type": "markdown",
      "source": [
        "b.\n",
        "\n",
        "$$\n",
        "\\tan(30°) = \\frac{s/2}{1}\n",
        "$$\n",
        "Solve for s:\n",
        "$$\n",
        "s = 2\\tan(30°) = 2 \\times \\frac{1}{\\sqrt{3}} = \\frac{2}{\\sqrt{3}}\n",
        "$$\n",
        "Perimeter:\n",
        "$$\n",
        "P = 6s = 6 \\times \\frac{2}{\\sqrt{3}} = \\frac{12}{\\sqrt{3}} = 4\\sqrt{3}\n",
        "$$"
      ],
      "metadata": {
        "id": "U_u46yLwDiF-"
      }
    },
    {
      "cell_type": "markdown",
      "source": [
        "Area:\n",
        "$$\n",
        "A = \\frac{1}{2} (4\\sqrt{3})(1) = 2\\sqrt{3} \\approx 3.464\n",
        "$$"
      ],
      "metadata": {
        "id": "JQmtDtb_F8K7"
      }
    },
    {
      "cell_type": "markdown",
      "source": [
        "1.2 a, b, c\n",
        "\n",
        "a.\n",
        "| # of sticks tossed | 0 | 1 | 2 | 3 | 4 | 5 | 6 | 7 |\n",
        "|--------------------|---|---|---|---|---|---|---|---|\n",
        "| **3** | 1 | 3 | 3 | 1 |   |   |   |   |\n",
        "| **4** | 1 | 4 | 6 | 4 | 1 |   |   |   |\n",
        "| **5** | 1 | 5 | 10 | 10 | 5 | 1 |   |   |\n",
        "| **6** | 1 | 6 | 15 | 20 | 15 | 6 | 1 |   |\n",
        "| **7** | 1 | 7 | 21 | 35 | 35 | 21 | 7 | 1 |\n",
        "\n",
        "b.\n",
        "While filling out the table, I noticed a pattern that the first and last numbers in each row are always 1, and every number in between is formed by adding the two numbers directly above it from the previous row. Each time a new stick is added, the combinations grow based on the outcomes from the row before.\n",
        "\n",
        "c.\n",
        "This makes sense because for each new stick tossed, there are only two possibilities, it can land red or white. If the stick lands white, the number of red sides stays the same as in the row above. If it lands red, we just add one more red side to the combinations from the previous row. Adding these two cases together gives the new values we see."
      ],
      "metadata": {
        "id": "4IGXmZQcIa55"
      }
    },
    {
      "cell_type": "markdown",
      "source": [],
      "metadata": {
        "id": "M6Z1yuEaKmel"
      }
    }
  ]
}