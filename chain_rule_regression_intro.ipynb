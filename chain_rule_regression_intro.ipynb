{
  "cells": [
    {
      "cell_type": "markdown",
      "metadata": {
        "id": "view-in-github",
        "colab_type": "text"
      },
      "source": [
        "<a href=\"https://colab.research.google.com/github/josepeon/calculus_parsons/blob/main/chain_rule_regression_intro.ipynb\" target=\"_parent\"><img src=\"https://colab.research.google.com/assets/colab-badge.svg\" alt=\"Open In Colab\"/></a>"
      ]
    },
    {
      "cell_type": "markdown",
      "metadata": {
        "id": "WGy3Q2rEy7_Q"
      },
      "source": [
        "# Composition and the Chain Rule\n",
        "\n",
        "As you may have guessed, once we apply the idea of differentiation to simple curves, we'd like to use this method in more and more general situations.  This notebook explores the use of differentiation and derivatives to explore functions formed by composition, and to use these results to differentiate implicitly defined functions.\n",
        "\n",
        "**GOALS**:\n",
        "\n",
        "- Identify situations where chain rule is of use\n",
        "\n",
        "- Define and Use Chain Rule\n",
        "\n",
        "- Use Chain Rule to differentiate implicitly defined functions\n",
        "\n",
        "- Use Descartes algorithm to explore alternative approach to differentation"
      ]
    },
    {
      "cell_type": "code",
      "source": [
        "import sympy as sy\n",
        "import numpy as np\n",
        "import pandas as pd\n",
        "import matplotlib.pyplot as plt"
      ],
      "metadata": {
        "id": "xKqYKGfJ3lmd"
      },
      "execution_count": null,
      "outputs": []
    },
    {
      "cell_type": "markdown",
      "source": [
        "#### WARM UP\n",
        "\n",
        "Find the derivative of the following functions:\n",
        "\n",
        "1. $\\frac{1}{3}x^3 - \\frac{5}{2}x^2 + 4x$\n",
        "2. $x + e^x - \\frac{1}{x}$\n",
        "3. $2t^4 - 10t^2 + 13t$\n",
        "4. $\\frac{1}{\\sqrt{x}} + \\frac{1}{x}$\n",
        "5. Find all critical points for $x^3 - \\frac{1}{2}x^2 - 2x + 1$"
      ],
      "metadata": {
        "id": "qW38OkrYzH-w"
      }
    },
    {
      "cell_type": "code",
      "source": [
        "x = sy.Symbol('x')\n",
        "sy.diff(1/3*x**3 - 5/2*x**2 + 4*x, x)"
      ],
      "metadata": {
        "id": "ywtC_fTR0LJq",
        "colab": {
          "base_uri": "https://localhost:8080/",
          "height": 38
        },
        "outputId": "6588490a-35b6-420e-fe7b-601cf73e4233"
      },
      "execution_count": null,
      "outputs": [
        {
          "output_type": "execute_result",
          "data": {
            "text/plain": [
              "1.0*x**2 - 5.0*x + 4"
            ],
            "text/latex": "$\\displaystyle 1.0 x^{2} - 5.0 x + 4$"
          },
          "metadata": {},
          "execution_count": 2
        }
      ]
    },
    {
      "cell_type": "code",
      "source": [
        "sy.diff(x + sy.exp(x) - 1/x, x)"
      ],
      "metadata": {
        "id": "JjOHmdhC0LHD",
        "colab": {
          "base_uri": "https://localhost:8080/",
          "height": 51
        },
        "outputId": "1f5fbf1b-6773-458c-f28e-62de8ea052b5"
      },
      "execution_count": null,
      "outputs": [
        {
          "output_type": "execute_result",
          "data": {
            "text/plain": [
              "exp(x) + 1 + x**(-2)"
            ],
            "text/latex": "$\\displaystyle e^{x} + 1 + \\frac{1}{x^{2}}$"
          },
          "metadata": {},
          "execution_count": 3
        }
      ]
    },
    {
      "cell_type": "code",
      "source": [
        "sy.diff(2*x**4 - 10*x**2 + 13*x, x)"
      ],
      "metadata": {
        "id": "zB7j8h490LEb",
        "colab": {
          "base_uri": "https://localhost:8080/",
          "height": 38
        },
        "outputId": "03b72c51-64d8-414b-e0c5-49ae06e69ae6"
      },
      "execution_count": null,
      "outputs": [
        {
          "output_type": "execute_result",
          "data": {
            "text/plain": [
              "8*x**3 - 20*x + 13"
            ],
            "text/latex": "$\\displaystyle 8 x^{3} - 20 x + 13$"
          },
          "metadata": {},
          "execution_count": 4
        }
      ]
    },
    {
      "cell_type": "code",
      "source": [
        "sy.diff(1/sy.sqrt(x) + 1/x, x)"
      ],
      "metadata": {
        "id": "6cO1HpNu0LB2",
        "colab": {
          "base_uri": "https://localhost:8080/",
          "height": 53
        },
        "outputId": "d463ca18-96c4-4cea-bb19-049d24e353d8"
      },
      "execution_count": null,
      "outputs": [
        {
          "output_type": "execute_result",
          "data": {
            "text/plain": [
              "-1/x**2 - 1/(2*x**(3/2))"
            ],
            "text/latex": "$\\displaystyle - \\frac{1}{x^{2}} - \\frac{1}{2 x^{\\frac{3}{2}}}$"
          },
          "metadata": {},
          "execution_count": 5
        }
      ]
    },
    {
      "cell_type": "code",
      "source": [
        "#take derivative\n",
        "dx = sy.diff(x**3 - 1/2*x**2 - 2*x + 1, x)\n",
        "#set equal to zero\n",
        "eq = sy.Eq(dx, 0)\n",
        "#solve\n",
        "sy.solve(eq, x)"
      ],
      "metadata": {
        "colab": {
          "base_uri": "https://localhost:8080/"
        },
        "id": "mr9agAUjLWFC",
        "outputId": "0c50ce8c-a239-4216-a260-b3ec4955df98"
      },
      "execution_count": null,
      "outputs": [
        {
          "output_type": "execute_result",
          "data": {
            "text/plain": [
              "[-0.666666666666667, 1.00000000000000]"
            ]
          },
          "metadata": {},
          "execution_count": 6
        }
      ]
    },
    {
      "cell_type": "markdown",
      "source": [
        "#### Extrema\n",
        "\n",
        "For each of the following functions find the absolute maximum or minimum over the given interval.\n",
        "\n",
        "1. $f(x) = -x^2 + 3x - 2$ over [1, 3]\n",
        "2. $f(x) = x^2 - 3x^{2/3}$ over [0, 2]"
      ],
      "metadata": {
        "id": "33kvY4Ih0LoJ"
      }
    },
    {
      "cell_type": "code",
      "source": [
        "x = sy.Symbol('x')\n",
        "#x = np.linspace(1, 3, 100)\n",
        "def f(x): return  -x**2 + 3*x - 2\n",
        "sy.plot(f(x), (x, 1, 3))"
      ],
      "metadata": {
        "id": "pPTZ4Zru0gH0",
        "colab": {
          "base_uri": "https://localhost:8080/",
          "height": 503
        },
        "outputId": "b3787d93-2f1a-4f96-f203-8b82b2a525d8"
      },
      "execution_count": null,
      "outputs": [
        {
          "output_type": "display_data",
          "data": {
            "text/plain": [
              "<Figure size 640x480 with 1 Axes>"
            ],
            "image/png": "[encoded data removed]"
          },
          "metadata": {}
        },
        {
          "output_type": "execute_result",
          "data": {
            "text/plain": [
              "<sympy.plotting.backends.matplotlibbackend.matplotlib.MatplotlibBackend at 0x7a4b28acdc10>"
            ]
          },
          "metadata": {},
          "execution_count": 7
        }
      ]
    },
    {
      "cell_type": "code",
      "source": [
        "def f(x): return x**2 - 3*x**(2/3)\n",
        "sy.plot(f(x), (x, 0, 2));"
      ],
      "metadata": {
        "id": "FBNCpgSm-b_k"
      },
      "execution_count": null,
      "outputs": []
    },
    {
      "cell_type": "code",
      "source": [
        "eq = sy.Eq(sy.diff(f(x)), 0)\n",
        "sy.solve(eq, x)"
      ],
      "metadata": {
        "id": "y4ByxKrt0gEs"
      },
      "execution_count": null,
      "outputs": []
    },
    {
      "cell_type": "code",
      "source": [],
      "metadata": {
        "id": "fb0oUTZG0gBk"
      },
      "execution_count": null,
      "outputs": []
    },
    {
      "cell_type": "code",
      "source": [],
      "metadata": {
        "id": "k9jJTF2n0f-v"
      },
      "execution_count": null,
      "outputs": []
    },
    {
      "cell_type": "code",
      "source": [],
      "metadata": {
        "id": "x2vj9CMh_2Gt"
      },
      "execution_count": null,
      "outputs": []
    },
    {
      "cell_type": "markdown",
      "source": [
        "### AP Calculus Free Response\n",
        "\n",
        "![Screenshot 2024-10-30 at 10.41.07 AM.png](data:image/png;base64,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)"
      ],
      "metadata": {
        "id": "cgDjcgYH3k1r"
      }
    },
    {
      "cell_type": "code",
      "source": [],
      "metadata": {
        "id": "tHiIrTVl4CW4"
      },
      "execution_count": null,
      "outputs": []
    },
    {
      "cell_type": "code",
      "source": [],
      "metadata": {
        "id": "muh9M5604CUU"
      },
      "execution_count": null,
      "outputs": []
    },
    {
      "cell_type": "code",
      "source": [],
      "metadata": {
        "id": "Z36yKhU44CR9"
      },
      "execution_count": null,
      "outputs": []
    },
    {
      "cell_type": "code",
      "source": [],
      "metadata": {
        "id": "ldxvVdQD4CPT"
      },
      "execution_count": null,
      "outputs": []
    },
    {
      "cell_type": "code",
      "source": [],
      "metadata": {
        "id": "L6DE-csE4CMu"
      },
      "execution_count": null,
      "outputs": []
    },
    {
      "cell_type": "code",
      "source": [],
      "metadata": {
        "id": "TMpV3SAz4Bx7"
      },
      "execution_count": null,
      "outputs": []
    },
    {
      "cell_type": "markdown",
      "metadata": {
        "deletable": true,
        "editable": true,
        "id": "gf89gTNWy7_S"
      },
      "source": [
        "## Composition of Functions\n",
        "\n",
        "Functions can be formed by combining other functions through famililar operations.  For example, we can consider the polynomial $h(x) = x^3 + x^2$ as formed by two simpler polynomials $f(x) = x^3$ and $g(x) = x^2$ combined through addition.  So far, we have not had to worry about this, as differentiation and integration are linear operators that work across addition and subtraction.\n",
        "\n",
        "If we instead have a function $h$ given by:\n",
        "\n",
        "$$h(x) = \\sqrt{x^3 + x^2}$$\n",
        "\n",
        "we may recognize the square root function and the polynomial inside of it.  This was not formed by addition, subtraction, multiplication, or division of simpler functions however.  Instead, we can understand the function $h$ as formed by **composing** two functions $f$ and $g$ where:\n",
        "\n",
        "$$h(x) = \\sqrt{x^3 + x^2} \\quad f(u) = \\sqrt(u) \\quad g(x) = x^3 + x^2$$\n",
        "\n",
        "The operation of composition means we apply the function $f$ to the function $g$.  We would write this as\n",
        "\n",
        "$$f(g(x)) = \\sqrt{(g(x))} = \\sqrt{x^3 + x^2}$$\n"
      ]
    },
    {
      "cell_type": "markdown",
      "metadata": {
        "id": "WxnaBVB6y7_S"
      },
      "source": [
        "We can use SymPy to explore a few examples and determine a general rule for differentiating functions formed by compositions.  We begin with trying to generalize the situation above, where we compose some function $g$ into a function $f$ of the form\n",
        "\n",
        "$$f(x) = (g(x))^n$$\n",
        "\n",
        "It seems reasonable to expect that\n",
        "\n",
        "$$f'(x) = n(g(x))^{n-1}$$\n",
        "\n",
        "You need to adjust this statement to make it true.  Consider the following examples, use sympy to differentiate them and determine the remaining terms.\n",
        "\n",
        "1. $(x^2 - 3x)^2$\n",
        "\n",
        "2. $(x^2 - 3x)^3$\n",
        "\n",
        "3. $\\sqrt{x^2 - 3x}$"
      ]
    },
    {
      "cell_type": "code",
      "execution_count": null,
      "metadata": {
        "deletable": true,
        "editable": true,
        "id": "TieFi_cMy7_S"
      },
      "outputs": [],
      "source": [
        "import matplotlib.pyplot as plt\n",
        "import numpy as np\n",
        "import sympy as sy"
      ]
    },
    {
      "cell_type": "code",
      "execution_count": null,
      "metadata": {
        "deletable": true,
        "editable": true,
        "id": "rA2e94d2y7_T"
      },
      "outputs": [],
      "source": [
        "x = sy.Symbol('x')\n",
        "y1 = (x**2 - 3*x)**2\n",
        "y2 = (x**2 - 3*x)**3\n",
        "y3 = (x**2 - 3*x)**(1/2)"
      ]
    },
    {
      "cell_type": "code",
      "execution_count": null,
      "metadata": {
        "deletable": true,
        "editable": true,
        "jupyter": {
          "outputs_hidden": false
        },
        "id": "ym-cPr2Hy7_T"
      },
      "outputs": [],
      "source": [
        "#differentiate y1 with respect to x\n",
        "sy.diff(y1, x)\n",
        "#returns resulting expression in factored form\n",
        "#this matters to our specific problem and looking\n",
        "#for some kind of structure in the expression\n",
        "sy.factor(sy.diff(y1, x))\n",
        "sy.diff(y1, x)"
      ]
    },
    {
      "cell_type": "code",
      "execution_count": null,
      "metadata": {
        "deletable": true,
        "editable": true,
        "jupyter": {
          "outputs_hidden": false
        },
        "id": "3sj6I5fmy7_U"
      },
      "outputs": [],
      "source": [
        "#derivative of y2\n",
        "sy.diff(y2, x)"
      ]
    },
    {
      "cell_type": "code",
      "execution_count": null,
      "metadata": {
        "deletable": true,
        "editable": true,
        "jupyter": {
          "outputs_hidden": false
        },
        "id": "Q5lTy6FCy7_U"
      },
      "outputs": [],
      "source": [
        "#derivative of y3\n",
        "sy.diff(y3, x)"
      ]
    },
    {
      "cell_type": "markdown",
      "metadata": {
        "deletable": true,
        "editable": true,
        "id": "5CaY6Y-vy7_V"
      },
      "source": [
        "Now consider the examples for $f(x) = \\sin(g(x))$:\n",
        "\n",
        "1. $\\sin{2x}$\n",
        "\n",
        "2. $\\sin{(\\frac{1}{2}x + 3)}$\n",
        "\n",
        "3. $\\sin{(x^2)}$"
      ]
    },
    {
      "cell_type": "markdown",
      "metadata": {
        "id": "roPOVYbxy7_V"
      },
      "source": [
        "Write down what you think the derivative of each expression should be?  Use `sympy` to examine the derivatives and identify a rule for finding the derivatives of each expression."
      ]
    },
    {
      "cell_type": "code",
      "execution_count": null,
      "metadata": {
        "id": "mNJzjVvfy7_V"
      },
      "outputs": [],
      "source": [
        "# sy.diff(sy.sin(2*x), x)"
      ]
    },
    {
      "cell_type": "code",
      "execution_count": null,
      "metadata": {
        "id": "BpJazcWqy7_V"
      },
      "outputs": [],
      "source": [
        "# sy.diff(sy.sin(1/2*x + 3), x)"
      ]
    },
    {
      "cell_type": "code",
      "execution_count": null,
      "metadata": {
        "id": "nvS5-wwyy7_V"
      },
      "outputs": [],
      "source": [
        "# sy.diff(sy.sin(x**2), x)"
      ]
    },
    {
      "cell_type": "code",
      "execution_count": null,
      "metadata": {
        "id": "iuI9YwxPy7_V"
      },
      "outputs": [],
      "source": []
    },
    {
      "cell_type": "markdown",
      "metadata": {
        "id": "Fcr4R2v7y7_W"
      },
      "source": [
        "#### Problems\n",
        "\n",
        "Use paper and pencil or `sympy` to compute derivatives of the following functions:\n",
        "\n",
        "1. $(x^4 + 3x^2 - 2)^5$\n",
        "2. $(4x - x^2)^{100}$\n",
        "3. $x^3 + \\cos^3x$\n",
        "4. $e^{x^2}$"
      ]
    },
    {
      "cell_type": "code",
      "execution_count": null,
      "metadata": {
        "id": "A5OEKUAiy7_W"
      },
      "outputs": [],
      "source": []
    },
    {
      "cell_type": "code",
      "execution_count": null,
      "metadata": {
        "id": "ozW_EcpBy7_W"
      },
      "outputs": [],
      "source": []
    },
    {
      "cell_type": "code",
      "execution_count": null,
      "metadata": {
        "id": "uwkJ-m7gy7_W"
      },
      "outputs": [],
      "source": []
    },
    {
      "cell_type": "code",
      "execution_count": null,
      "metadata": {
        "id": "SeGbtNAgy7_W"
      },
      "outputs": [],
      "source": []
    },
    {
      "cell_type": "code",
      "execution_count": null,
      "metadata": {
        "id": "w3vR_9H2y7_W"
      },
      "outputs": [],
      "source": []
    },
    {
      "cell_type": "markdown",
      "metadata": {
        "id": "Tmo244MQy7_W"
      },
      "source": [
        "#### Using the chain rule\n",
        "\n",
        "**Example 1**: Line of best fit"
      ]
    },
    {
      "cell_type": "code",
      "execution_count": null,
      "metadata": {
        "id": "Tatr9lgwy7_W"
      },
      "outputs": [],
      "source": [
        "import seaborn as sns"
      ]
    },
    {
      "cell_type": "code",
      "execution_count": null,
      "metadata": {
        "id": "ztBFsgFoy7_W"
      },
      "outputs": [],
      "source": [
        "tips = sns.load_dataset('tips')"
      ]
    },
    {
      "cell_type": "code",
      "execution_count": null,
      "metadata": {
        "id": "2RzH9jLgy7_W"
      },
      "outputs": [],
      "source": [
        "tips.head()"
      ]
    },
    {
      "cell_type": "code",
      "execution_count": null,
      "metadata": {
        "id": "0rvAycK7y7_X"
      },
      "outputs": [],
      "source": [
        "sns.scatterplot(data = tips, x = 'total_bill', y = 'tip');"
      ]
    },
    {
      "cell_type": "code",
      "execution_count": null,
      "metadata": {
        "id": "zkcNUni8y7_X"
      },
      "outputs": [],
      "source": [
        "def y1(x): return .19*x"
      ]
    },
    {
      "cell_type": "code",
      "execution_count": null,
      "metadata": {
        "id": "2AYARPe8y7_X"
      },
      "outputs": [],
      "source": [
        "def y2(x): return .02*x"
      ]
    },
    {
      "cell_type": "code",
      "execution_count": null,
      "metadata": {
        "id": "g7Jkdn3Oy7_X"
      },
      "outputs": [],
      "source": [
        "x = tips['total_bill']"
      ]
    },
    {
      "cell_type": "code",
      "execution_count": null,
      "metadata": {
        "id": "9sDdEjFEy7_X"
      },
      "outputs": [],
      "source": [
        "plt.plot(x, y1(x), label = 'y1')\n",
        "plt.plot(x, y2(x), label = 'y2')\n",
        "plt.legend()\n",
        "sns.scatterplot(data = tips, x = 'total_bill', y = 'tip');"
      ]
    },
    {
      "cell_type": "code",
      "execution_count": null,
      "metadata": {
        "id": "7fNh4AiNy7_Y"
      },
      "outputs": [],
      "source": [
        "X = tips[['total_bill', 'tip']].sample(20)\n",
        "plt.plot(x, y1(x), label = 'y1')\n",
        "plt.plot(x, y2(x), label = 'y2')\n",
        "plt.legend()\n",
        "plt.scatter(X['total_bill'], X['tip'])\n",
        "plt.title('Which Line is the Best? Why?')\n",
        "plt.grid();"
      ]
    },
    {
      "cell_type": "code",
      "source": [
        "def mse(beta): return np.mean((tips['tip'] - beta*tips['total_bill'])**2)"
      ],
      "metadata": {
        "id": "t3F0G_lVayyI"
      },
      "execution_count": null,
      "outputs": []
    },
    {
      "cell_type": "code",
      "source": [
        "mse(.1)"
      ],
      "metadata": {
        "id": "D7vG867AaywJ"
      },
      "execution_count": null,
      "outputs": []
    },
    {
      "cell_type": "code",
      "source": [
        "mse(.15)"
      ],
      "metadata": {
        "id": "Jk46vpGBayrk"
      },
      "execution_count": null,
      "outputs": []
    },
    {
      "cell_type": "code",
      "source": [
        "betas = np.arange(0, 1, .1)\n",
        "mses = []\n",
        "for beta in betas:\n",
        "  mses.append(mse(beta))"
      ],
      "metadata": {
        "id": "O5nytF9Qaynv"
      },
      "execution_count": null,
      "outputs": []
    },
    {
      "cell_type": "code",
      "source": [
        "plt.plot(betas, mses)"
      ],
      "metadata": {
        "id": "y5q4AUmacPSW"
      },
      "execution_count": null,
      "outputs": []
    },
    {
      "cell_type": "code",
      "execution_count": null,
      "metadata": {
        "id": "MD_Sl4XMy7_Y"
      },
      "outputs": [],
      "source": [
        "x = tips['total_bill']\n",
        "y = tips['tip']"
      ]
    },
    {
      "cell_type": "code",
      "execution_count": null,
      "metadata": {
        "id": "pQuh6h6Jy7_Y"
      },
      "outputs": [],
      "source": [
        "numerator = sum(x*y)\n",
        "denom = sum(x**2)"
      ]
    },
    {
      "cell_type": "code",
      "execution_count": null,
      "metadata": {
        "id": "NpcImcCdy7_Y"
      },
      "outputs": [],
      "source": [
        "numerator/denom"
      ]
    },
    {
      "cell_type": "code",
      "execution_count": null,
      "metadata": {
        "id": "jaK0ReY8y7_Y"
      },
      "outputs": [],
      "source": [
        "\n",
        "plt.legend()\n",
        "sns.scatterplot(data = tips, x = 'total_bill', y = 'tip');\n",
        "plt.plot(x, .143*x, color = 'red')"
      ]
    },
    {
      "cell_type": "code",
      "execution_count": null,
      "metadata": {
        "id": "pheK_MBCy7_Y"
      },
      "outputs": [],
      "source": []
    },
    {
      "cell_type": "markdown",
      "metadata": {
        "id": "7FSlo5Pey7_Y"
      },
      "source": [
        "#### Mean Squared Error\n",
        "\n",
        "$$\\frac{1}{n}\\sum_{i = 1}^n (y_i - \\hat{y_i})^2$$\n",
        "\n",
        "where $\\hat{y_i} = mx$"
      ]
    },
    {
      "cell_type": "code",
      "execution_count": null,
      "metadata": {
        "id": "G8F0ypYIy7_Y"
      },
      "outputs": [],
      "source": [
        "def f(x): return x**2"
      ]
    },
    {
      "cell_type": "code",
      "execution_count": null,
      "metadata": {
        "id": "2SG3v_LQy7_Y"
      },
      "outputs": [],
      "source": [
        "x = np.linspace(-2, 2, 100)\n",
        "plt.plot(x, f(x))\n",
        "plt.plot(1, f(1), 'ro')"
      ]
    },
    {
      "cell_type": "code",
      "execution_count": null,
      "metadata": {
        "id": "aOt009wCy7_Y"
      },
      "outputs": [],
      "source": [
        "x0 = 1"
      ]
    },
    {
      "cell_type": "code",
      "execution_count": null,
      "metadata": {
        "id": "ZPpjmruVy7_i"
      },
      "outputs": [],
      "source": [
        "x1 = x0 - (.1)*(2*x0)\n",
        "x1"
      ]
    },
    {
      "cell_type": "code",
      "execution_count": null,
      "metadata": {
        "id": "FJS2TCD3y7_i"
      },
      "outputs": [],
      "source": [
        "x2 = x1 - (.1)*(2*x1)\n",
        "x2"
      ]
    },
    {
      "cell_type": "code",
      "execution_count": null,
      "metadata": {
        "id": "L0UUpdxzy7_i"
      },
      "outputs": [],
      "source": [
        "x0 = 1\n",
        "step_size = 0.1\n",
        "def df(x): return 2*x"
      ]
    },
    {
      "cell_type": "code",
      "execution_count": null,
      "metadata": {
        "id": "ol10tp9vy7_i"
      },
      "outputs": [],
      "source": [
        "xs = [x0]\n",
        "for i in range(50):\n",
        "  xnext = xs[-1] - step_size*df(xs[-1])\n",
        "  xs.append(xnext)"
      ]
    },
    {
      "cell_type": "code",
      "source": [
        "xs = np.array(xs)"
      ],
      "metadata": {
        "id": "42Oebv_usgPl"
      },
      "execution_count": null,
      "outputs": []
    },
    {
      "cell_type": "code",
      "execution_count": null,
      "metadata": {
        "id": "9C1mmbFSy7_i"
      },
      "outputs": [],
      "source": [
        "plt.plot(x, f(x))\n",
        "plt.scatter(xs, f(xs), color = 'red')"
      ]
    },
    {
      "cell_type": "code",
      "execution_count": null,
      "metadata": {
        "id": "iQaSIC2iy7_j"
      },
      "outputs": [],
      "source": [
        "xs"
      ]
    },
    {
      "cell_type": "code",
      "source": [
        "plt.scatter(tips['total_bill'], tips['tip'])"
      ],
      "metadata": {
        "id": "6vTB1xWOsxbH"
      },
      "execution_count": null,
      "outputs": []
    },
    {
      "cell_type": "code",
      "source": [
        "starting_point = .2\n",
        "step_size = 0.001\n",
        "x = tips['total_bill']\n",
        "y = tips['tip']\n",
        "def dmse(m): return 2*np.mean((y - m*x)*-x)"
      ],
      "metadata": {
        "id": "J8E7F8DetM3K"
      },
      "execution_count": null,
      "outputs": []
    },
    {
      "cell_type": "code",
      "source": [
        "slopes = [starting_point]\n",
        "for i in range(100):\n",
        "  next_slope = slopes[-1] - step_size*dmse(slopes[-1])\n",
        "  slopes.append(next_slope)"
      ],
      "metadata": {
        "id": "cxsdYSbwt-BL"
      },
      "execution_count": null,
      "outputs": []
    },
    {
      "cell_type": "code",
      "source": [
        "slopes[-1]"
      ],
      "metadata": {
        "id": "CfKa9UQzuLyU"
      },
      "execution_count": null,
      "outputs": []
    },
    {
      "cell_type": "code",
      "source": [],
      "metadata": {
        "id": "pYeejZ8huTIt"
      },
      "execution_count": null,
      "outputs": []
    }
  ],
  "metadata": {
    "kernelspec": {
      "display_name": "Python 3",
      "language": "python",
      "name": "python3"
    },
    "language_info": {
      "codemirror_mode": {
        "name": "ipython",
        "version": 3
      },
      "file_extension": ".py",
      "mimetype": "text/x-python",
      "name": "python",
      "nbconvert_exporter": "python",
      "pygments_lexer": "ipython3",
      "version": "3.8.3"
    },
    "colab": {
      "provenance": [],
      "include_colab_link": true
    }
  },
  "nbformat": 4,
  "nbformat_minor": 0
}