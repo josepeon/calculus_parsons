{
  "nbformat": 4,
  "nbformat_minor": 0,
  "metadata": {
    "colab": {
      "provenance": [],
      "authorship_tag": "ABX9TyNxZdUfx5rAr59WdA9rFPm8",
      "include_colab_link": true
    },
    "kernelspec": {
      "name": "python3",
      "display_name": "Python 3"
    },
    "language_info": {
      "name": "python"
    }
  },
  "cells": [
    {
      "cell_type": "markdown",
      "metadata": {
        "id": "view-in-github",
        "colab_type": "text"
      },
      "source": [
        "<a href=\"https://colab.research.google.com/github/josepeon/calculus_parsons/blob/main/Assignment_1_Calculus.ipynb\" target=\"_parent\"><img src=\"https://colab.research.google.com/assets/colab-badge.svg\" alt=\"Open In Colab\"/></a>"
      ]
    },
    {
      "cell_type": "markdown",
      "source": [
        "###Assignment 01"
      ],
      "metadata": {
        "id": "Bc_PoGOuhDkS"
      }
    },
    {
      "cell_type": "markdown",
      "source": [
        "####Excercise 02\n",
        "The Egyptian rule for finding the area of a quadrilateral used the formula"
      ],
      "metadata": {
        "id": "lXtWuQvlhX4W"
      }
    },
    {
      "cell_type": "markdown",
      "source": [
        "$$\n",
        "A=\\Big(\\frac{a+c}{2}\\Big)\\Big(\\frac{b+d}{2}\\Big)\n",
        "$$"
      ],
      "metadata": {
        "id": "fL1I93HDh-y6"
      }
    },
    {
      "cell_type": "markdown",
      "source": [
        "This works only for rectangles. For trapezoids, it’s incorrect because the average of the sides isn’t equal to the height, and for parallelograms it overestimates the area unless the angle is 90°. In other words, it gives a good result only when the figure is a rectangle."
      ],
      "metadata": {
        "id": "vBdgNrgOhP2y"
      }
    },
    {
      "cell_type": "markdown",
      "source": [
        "####Excercise 03\n",
        "The Rhind Papyrus formula for the area of a circle is square eight-ninths of the diameter.\n",
        "That implies pi is approx. 3.16, which is only about .6% higher than the true value"
      ],
      "metadata": {
        "id": "OSl4isuwjBMP"
      }
    },
    {
      "cell_type": "markdown",
      "source": [
        "####Euclid's Elements Book 1 Proposition 47\n",
        "Yes, I was able to understand and replicate the main idea of Euclid’s proof. He proves the Pythagorean Theorem by drawing squares on each side of a right triangle and then using lines parallel to the hypotenuse to divide the large square into two rectangles. Each of these rectangles has the same area as one of the smaller squares on the sides, so together they exactly fill the large one. What’s interesting is how Euclid convinces purely through geometry, no numbers. The proof feels almost visual."
      ],
      "metadata": {
        "id": "P8FgkzwwjDsW"
      }
    },
    {
      "cell_type": "markdown",
      "source": [
        "####Proof Without Words\n",
        "What I see in this proof is a right triangle with squares drawn on each of its three sides to show the relationship a^2 + b^2 = c^2. Then, when a larger outer square is traced that connects the outer corners of those three smaller squares, the figure shows how the areas relate visually. The hypotenuse extends through the big square, dividing it into two parts — one that contains the larger square on the hypotenuse, and another that contains the two smaller squares from the legs. Both regions, including the extra spaces around the squares, balance perfectly. It’s like seeing the Pythagorean Theorem not through formulas but through symmetry"
      ],
      "metadata": {
        "id": "d34DRA0QjDpf"
      }
    },
    {
      "cell_type": "markdown",
      "source": [
        "####Plato\n",
        "Plato saw mathematics as more than just calculation,it was a way of thinking about the structure and order of the world. He believed that the universe was built on perfect geometric forms, which he called the Platonic solids. To him, shapes like the cube, tetrahedron, and dodecahedron were not just abstract figures but models for how matter and harmony exist in nature. Euclid later built on this way of thinking by organizing geometry into a logical system of definitions, theorems, and proofs, giving Platos philosophical ideas a mathematical foundation. What I found most interesting was how connected math, philosophy, and even art or music were in this time. Everything revolved around proportion and balance. Thomas Heath, who wrote and translated this work, clearly had to understand not only Greek language but also how the math, history, and philosophy fit together. His writing shows someone who saw mathematics as a reflection of human thought across time."
      ],
      "metadata": {
        "id": "JXzEkiVgjDm8"
      }
    }
  ]
}