{
  "nbformat": 4,
  "nbformat_minor": 0,
  "metadata": {
    "colab": {
      "provenance": [],
      "authorship_tag": "ABX9TyOVRdVeBB5ophkZ3SbPlk9p",
      "include_colab_link": true
    },
    "kernelspec": {
      "name": "python3",
      "display_name": "Python 3"
    },
    "language_info": {
      "name": "python"
    }
  },
  "cells": [
    {
      "cell_type": "markdown",
      "metadata": {
        "id": "view-in-github",
        "colab_type": "text"
      },
      "source": [
        "<a href=\"https://colab.research.google.com/github/josepeon/calculus_parsons/blob/main/Assignment_IV_Calculus.ipynb\" target=\"_parent\"><img src=\"https://colab.research.google.com/assets/colab-badge.svg\" alt=\"Open In Colab\"/></a>"
      ]
    },
    {
      "cell_type": "markdown",
      "source": [
        "##Assignment IV Calculus"
      ],
      "metadata": {
        "id": "ZeFNdCInjnun"
      }
    },
    {
      "cell_type": "markdown",
      "source": [
        "1. Fermat\n",
        "\n",
        "Fermat explored problems of finding maximum and minimum values through his method of adequality. He compared two nearly equal expressions of a function to determine where it stopped increasing or decreasing.\n",
        "\n",
        "A similar modern calculus example would be:\n",
        "\n",
        "$$\n",
        "f(x) = -x^2 + 4x \\quad = \\quad f’(x) = -2x + 4 = 0 \\quad = \\quad x = 2\n",
        "$$\n",
        "\n",
        "This gives the maximum point at x = 2.\n",
        "\n",
        "\n",
        "2. Suzukis\n",
        "\n",
        "Suzukis text shows that calculus didn’t emerge in isolation, it came from a broader cultural and scientific shift in early modern Europe. Mathematicians like Fermat, Descartes, and Viete began connecting algebra with geometry, motivated by problems in physics, astronomy, and motion.\n",
        "\n",
        "The context matters because the derivative was not just a mathematical invention but a response to the growing need to describe change in the world. For example, describing instantaneous speed or the slope of a curve required new symbolic tools, which eventually led to the formal derivative. As Suzuki explains, these discoveries grew out of the environment of collaboration and experimentation in Europe, where scientific and mathematical progress were deeply connected.\n",
        "\n",
        "3. Gradient Descent and Hill Climbing\n",
        "\n",
        "Even though Fermat and Descartes discovered the principles centuries ago, today we face problems that are far more complex. In 2025, algorithms like gradient descent and hill climbing are essential for optimization in large scale systems such as AI models where equations can’t be solved by hand.\n",
        "\n",
        "These modern methods automate Fermat’s idea of finding where change stops. They are the natural evolution of the same problem Fermat worked on, scaled up for the digital age."
      ],
      "metadata": {
        "id": "cLZCVBHflRTm"
      }
    }
  ]
}