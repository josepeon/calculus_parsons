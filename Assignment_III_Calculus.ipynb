{
  "cells": [
    {
      "cell_type": "markdown",
      "metadata": {
        "id": "view-in-github",
        "colab_type": "text"
      },
      "source": [
        "<a href=\"https://colab.research.google.com/github/josepeon/calculus_parsons/blob/main/Assignment_III_Calculus.ipynb\" target=\"_parent\"><img src=\"https://colab.research.google.com/assets/colab-badge.svg\" alt=\"Open In Colab\"/></a>"
      ]
    },
    {
      "cell_type": "markdown",
      "metadata": {
        "id": "_rUV4kLHxpd2"
      },
      "source": [
        "# Homework 3"
      ]
    },
    {
      "cell_type": "code",
      "execution_count": 1,
      "metadata": {
        "id": "Njm-_1ABxpd3",
        "outputId": "3cbf116b-daa7-4ef2-8ff9-1d2af75817b8",
        "colab": {
          "base_uri": "https://localhost:8080/",
          "height": 484
        }
      },
      "outputs": [
        {
          "output_type": "execute_result",
          "data": {
            "text/plain": [
              "<IPython.core.display.HTML object>"
            ],
            "text/html": [
              "\n",
              "<center>\n",
              "<h4>The Definite Integral as a Limit(1966)</h4>\n",
              "<iframe src=\"https://player.vimeo.com/video/101832466?title=0&byline=0&portrait=0\"\n",
              "width=\"700\" height=\"394\" frameborder=\"0\" webkitallowfullscreen mozallowfullscreen\n",
              "allowfullscreen></iframe>\n",
              "</center>\n",
              "<p>Please watch the video above.  Can you find a better alternative -- poor video is getting old...</p>\n"
            ]
          },
          "metadata": {},
          "execution_count": 1
        }
      ],
      "source": [
        "from IPython.display import HTML\n",
        "\n",
        "HTML('''\n",
        "<center>\n",
        "<h4>The Definite Integral as a Limit(1966)</h4>\n",
        "<iframe src=\"https://player.vimeo.com/video/101832466?title=0&byline=0&portrait=0\"\n",
        "width=\"700\" height=\"394\" frameborder=\"0\" webkitallowfullscreen mozallowfullscreen\n",
        "allowfullscreen></iframe>\n",
        "</center>\n",
        "<p>Please watch the video above.  Can you find a better alternative -- poor video is getting old...</p>\n",
        "''')"
      ]
    },
    {
      "cell_type": "markdown",
      "metadata": {
        "id": "o9SNs8ivxpd3"
      },
      "source": [
        "1. Use our formulas from class to evaluate the following sums:\n",
        "\n",
        "  1. $$\\sum_{i = 1}^{20} 100(i^2 - 5i + 1)$$\n",
        "  \n",
        "  2. $$\\sum_{i = 1}^{50} (i^2 - 10i)$$"
      ]
    },
    {
      "cell_type": "markdown",
      "metadata": {
        "id": "5BqKd8qxxpd3"
      },
      "source": [
        "2. Use Riemann sums to approximate the area under the curve for the given function on given interval:\n",
        "\n",
        "   1. $n = 4$ for $f(x) = \\frac{1}{x-1}$ on $[2, 4]$\n",
        "   \n",
        "   2. $n = 4$ for $f(x) = \\cos(\\pi x)$ on $[0, 2\\pi]$.\n",
        "   \n",
        "   3. $n = 8$ for $f(x) = x^2 - 2x + 1$ on $[0, 2]$."
      ]
    },
    {
      "cell_type": "markdown",
      "metadata": {
        "id": "DQa1N6qhxpd4"
      },
      "source": [
        "3. Let $r_j$ denote the total rainfall in New York City on the $j$th day of the year in 2020.  Interpret\n",
        "\n",
        "$$\\sum_{j = 1}^{31} r_j$$"
      ]
    },
    {
      "cell_type": "markdown",
      "metadata": {
        "id": "r3cSTWfzxpd4"
      },
      "source": [
        "4. Below is the data from our Central Park weather station.  We have isolated the Precipiation column, and plotted both it and the total precipitation for the month of January in the year 2020.  How could we make the second plot using the first? (**HINT**: Look up what the `.cumsum()` method does in Pandas, or just think about what we're doing in class!)\n",
        "\n",
        "<table border=\"1\" class=\"dataframe\">  <thead>    <tr style=\"text-align: right;\">      <th></th>      <th>DATE</th>      <th>PRCP</th>    </tr>  </thead>  <tbody>    <tr>      <th>0</th>      <td>1870-01-01</td>      <td>0.08</td>    </tr>    <tr>      <th>1</th>      <td>1870-01-02</td>      <td>1.18</td>    </tr>    <tr>      <th>2</th>      <td>1870-01-03</td>      <td>0.00</td>    </tr>    <tr>      <th>3</th>      <td>1870-01-04</td>      <td>0.00</td>    </tr>    <tr>      <th>4</th>      <td>1870-01-05</td>      <td>0.00</td>    </tr>  </tbody></table>"
      ]
    },
    {
      "cell_type": "markdown",
      "metadata": {
        "id": "acp6DEJbxpd4"
      },
      "source": [
        "![](https://github.com/jfkoehler/calc_fa_25/blob/main/.ipynb_checkpoints/images/a3p3.png?raw=1)"
      ]
    },
    {
      "cell_type": "markdown",
      "metadata": {
        "id": "7_JYDioMxpd4"
      },
      "source": [
        "5. Below is a plot of the average weekly earnings by americans according to the Bureau of Labor Statistics.  How can you use this plot to determine the average wage from 2009 to 2019 measured each quarter.  How can you use this graph to determine the average weekly earning over the 10 year period?"
      ]
    },
    {
      "cell_type": "markdown",
      "metadata": {
        "id": "w6BvjPxTxpd4"
      },
      "source": [
        "![](https://github.com/jfkoehler/calc_fa_25/blob/main/.ipynb_checkpoints/images/a3p4.png?raw=1)"
      ]
    },
    {
      "cell_type": "markdown",
      "metadata": {
        "id": "Wo2DpObSxpd4"
      },
      "source": [
        "6. Useful summations:\n",
        "\n",
        " - **AVERAGE**: $$\\frac{1}{n} \\sum_{i = 1}^n x_i$$\n",
        "\n",
        " - **VARIANCE**: $$\\frac{1}{n} \\sum_{i = 1}^n (x_i - \\mu)^2$$ where $\\mu$ is the mean of the data\n",
        "\n",
        "\n",
        "Use these formulas to compute the mean and variance of the datasets below.  What does the variance explain about a dataset based on your observations?\n",
        "\n",
        "- Dataset 1: `[5, 5, 5, 4, 4]`\n",
        "\n",
        "- Dataset 2: `[1, 3, 5, 7, 9]`"
      ]
    },
    {
      "cell_type": "markdown",
      "metadata": {
        "id": "EbhK0RN6xpd4"
      },
      "source": [
        "7.  Recall our power rule and evaluation method for definite integrals from class today.  Use this to evaluate the following definite integrals.  For an extra challenge, try to draw a plot and fill in the area using the example below.\n",
        "\n",
        " - $\\int_{-1}^2 (x^2 - 3x) dx$\n",
        "\n",
        " - $\\int_{-2}^3(x^2 + 3x - 5)dx $\n",
        "\n",
        " - $\\int_{1}^2 x^9 dx$\n",
        "\n",
        " - $\\int_{1}^2 \\frac{2}{x^3} dx $\n"
      ]
    },
    {
      "cell_type": "code",
      "execution_count": null,
      "metadata": {
        "id": "j2cTiEw8xpd4"
      },
      "outputs": [],
      "source": [
        "import matplotlib.pyplot as plt\n",
        "import numpy as np\n",
        "import pandas as pd"
      ]
    },
    {
      "cell_type": "code",
      "execution_count": null,
      "metadata": {
        "id": "xQ18gyC5xpd4",
        "outputId": "cfe99763-0d06-43e6-cd9c-a027eec50015"
      },
      "outputs": [
        {
          "data": {
            "image/png": "[encoded data removed]",
            "text/plain": [
              "<Figure size 432x288 with 1 Axes>"
            ]
          },
          "metadata": {
            "needs_background": "light"
          },
          "output_type": "display_data"
        }
      ],
      "source": [
        "x = np.linspace(-1, 2, 1000) #define the domain\n",
        "def f(x): return x**2 + 3*x  #define the function\n",
        "plt.plot(x, f(x))            #plot the function\n",
        "plt.fill_between(x, f(x),    #fill in the color\n",
        "                 color = 'orange', alpha = 0.4)\n",
        "plt.grid()                  #turn on the grid\n",
        "plt.title('Area under $f(x) = x^2 - 3x$ on [-1, 2]', loc = 'left'); #make the title"
      ]
    },
    {
      "cell_type": "markdown",
      "metadata": {
        "id": "4vrGJ9YZxpd4"
      },
      "source": [
        "8. Integration has long been an important part of the freshman calculus sequence at major universities.  So much so that MIT even holds a regular integration bee where students solve challenging integration problems.  Solving these problems was also an important part of early Artificial Intelligence work at MIT, namely the SAINT computer program that was written to solve symbolic integration problems.  Please read a few pages of the work [here](https://dspace.mit.edu/bitstream/handle/1721.1/11997/31225400-MIT.pdf?sequence=2).  What do you think about this?  Should we do things if we know there are machines that can do them better?  What does this mean for math class!"
      ]
    },
    {
      "cell_type": "markdown",
      "metadata": {
        "id": "q7y6uqfIxpd4"
      },
      "source": [
        "9.  How could we use our ideas around area to think about computing the volume of the shape shown below?  Describe a procedure for doing so.\n",
        "\n",
        "![](https://github.com/jfkoehler/calc_fa_25/blob/main/.ipynb_checkpoints/images/a3p9.png?raw=1)"
      ]
    },
    {
      "cell_type": "code",
      "execution_count": null,
      "metadata": {
        "id": "DH8qzXi6xpd4"
      },
      "outputs": [],
      "source": []
    },
    {
      "cell_type": "code",
      "execution_count": null,
      "metadata": {
        "id": "mKUPYoAwxpd4"
      },
      "outputs": [],
      "source": []
    },
    {
      "cell_type": "code",
      "execution_count": null,
      "metadata": {
        "id": "RraJ4zguxpd4"
      },
      "outputs": [],
      "source": []
    },
    {
      "cell_type": "code",
      "execution_count": null,
      "metadata": {
        "id": "Tam1EhLJxpd4"
      },
      "outputs": [],
      "source": []
    },
    {
      "cell_type": "code",
      "execution_count": null,
      "metadata": {
        "id": "sZjSr6Khxpd4"
      },
      "outputs": [],
      "source": []
    },
    {
      "cell_type": "code",
      "execution_count": null,
      "metadata": {
        "id": "Mtg_HzFrxpd4"
      },
      "outputs": [],
      "source": []
    },
    {
      "cell_type": "code",
      "execution_count": null,
      "metadata": {
        "id": "NkqLHuVlxpd4"
      },
      "outputs": [],
      "source": []
    },
    {
      "cell_type": "code",
      "execution_count": null,
      "metadata": {
        "id": "5UyctKSBxpd4"
      },
      "outputs": [],
      "source": []
    },
    {
      "cell_type": "code",
      "execution_count": null,
      "metadata": {
        "id": "8gBl6Qmmxpd4"
      },
      "outputs": [],
      "source": []
    },
    {
      "cell_type": "code",
      "execution_count": null,
      "metadata": {
        "id": "E0dgM4nhxpd4"
      },
      "outputs": [],
      "source": []
    },
    {
      "cell_type": "code",
      "execution_count": null,
      "metadata": {
        "id": "g0FgScccxpd4"
      },
      "outputs": [],
      "source": []
    },
    {
      "cell_type": "code",
      "execution_count": null,
      "metadata": {
        "id": "pOHtCNtJxpd4"
      },
      "outputs": [],
      "source": [
        "# import pandas as pd\n",
        "# df = pd.read_csv('data/2017018.csv')\n",
        "# df['DATE'] = pd.to_datetime(df['DATE'])\n",
        "\n",
        "# precipitation_data = df.loc[df['DATE'].dt.year == 2020, ['DATE', 'PRCP']]\n",
        "\n",
        "# precipitation_data.set_index('DATE', inplace = True)\n",
        "\n",
        "# import matplotlib.pyplot as plt\n",
        "# fig, ax = plt.subplots(nrows = 1, ncols = 2, figsize = (16, 7))\n",
        "# precipitation_data.plot(linestyle = '--', ax = ax[0], grid = True, title = 'Precipitation in Central Park')\n",
        "# precipitation_data.cumsum().plot(linestyle = '--', ax = ax[1], grid = True, title = 'Accumulated Precipitation in Central Park');\n",
        "# plt.savefig('images/a3p3.png')"
      ]
    },
    {
      "cell_type": "code",
      "execution_count": null,
      "metadata": {
        "id": "j0Lwoi4mxpd4"
      },
      "outputs": [],
      "source": [
        "# hourly_earnings_bls = pd.read_excel('data/bls.xlsx', skiprows = 19,  columns = ['id', 'year', 'quarter', 'value']).iloc[:, 1:4]\n",
        "\n",
        "# hourly_earnings_bls['Year'] = pd.to_datetime(hourly_earnings_bls['Year'], format = '%Y').dt.year\n",
        "\n",
        "# hourly_earnings_bls['Value'].plot(linestyle = '--', figsize = (15, 5))\n",
        "# plt.grid()\n",
        "# plt.title('Weekly Earnings by Quarter\\n2009 - 2019', loc = 'left');\n",
        "# plt.savefig('images/a3p4.png')"
      ]
    },
    {
      "cell_type": "code",
      "execution_count": null,
      "metadata": {
        "id": "ufFe1QjKxpd4"
      },
      "outputs": [],
      "source": [
        "# from mpl_toolkits.mplot3d import Axes3D\n",
        "# # setup the figure and axes\n",
        "# fig = plt.figure(figsize=(8, 6))\n",
        "# ax1 = fig.add_subplot(projection='3d')\n",
        "\n",
        "\n",
        "# # fake data\n",
        "# _x = np.arange(4)\n",
        "# _y = np.arange(5)\n",
        "# _xx, _yy = np.meshgrid(_x, _y)\n",
        "# x, y = _xx.ravel(), _yy.ravel()\n",
        "\n",
        "# top = x**2 + y\n",
        "# bottom = np.zeros_like(top)\n",
        "# width = depth = 1\n",
        "\n",
        "# ax1.bar3d(x, y, bottom, width, depth, top, shade=True)\n",
        "# ax1.set_title('A 3D Shape');\n",
        "# plt.savefig('images/a3p9.png')"
      ]
    },
    {
      "cell_type": "code",
      "execution_count": null,
      "metadata": {
        "id": "djCJU5_Rxpd4"
      },
      "outputs": [],
      "source": []
    }
  ],
  "metadata": {
    "kernelspec": {
      "display_name": "Python 3 (ipykernel)",
      "language": "python",
      "name": "python3"
    },
    "language_info": {
      "codemirror_mode": {
        "name": "ipython",
        "version": 3
      },
      "file_extension": ".py",
      "mimetype": "text/x-python",
      "name": "python",
      "nbconvert_exporter": "python",
      "pygments_lexer": "ipython3",
      "version": "3.11.4"
    },
    "colab": {
      "provenance": [],
      "include_colab_link": true
    }
  },
  "nbformat": 4,
  "nbformat_minor": 0
}