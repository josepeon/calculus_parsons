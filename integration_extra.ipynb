{
  "nbformat": 4,
  "nbformat_minor": 0,
  "metadata": {
    "kernelspec": {
      "display_name": "Python 3",
      "language": "python",
      "name": "python3"
    },
    "language_info": {
      "codemirror_mode": {
        "name": "ipython",
        "version": 3
      },
      "file_extension": ".py",
      "mimetype": "text/x-python",
      "name": "python",
      "nbconvert_exporter": "python",
      "pygments_lexer": "ipython3",
      "version": "3.8.2"
    },
    "colab": {
      "provenance": [],
      "include_colab_link": true
    }
  },
  "cells": [
    {
      "cell_type": "markdown",
      "metadata": {
        "id": "view-in-github",
        "colab_type": "text"
      },
      "source": [
        "<a href=\"https://colab.research.google.com/github/josepeon/calculus_parsons/blob/main/integration_extra.ipynb\" target=\"_parent\"><img src=\"https://colab.research.google.com/assets/colab-badge.svg\" alt=\"Open In Colab\"/></a>"
      ]
    },
    {
      "cell_type": "markdown",
      "metadata": {
        "id": "tKZcixtSZn4A"
      },
      "source": [
        "# Integration: Extra Examples\n",
        "\n",
        "**OBJECTIVES**\n",
        "\n",
        "- Use Riemann Sums to approximate Areas\n",
        "- Develop and Implement Trapezoidal Rule for Area Approximation\n",
        "- Introduce Monte Carlo methods for Area Approximation"
      ]
    },
    {
      "cell_type": "markdown",
      "metadata": {
        "id": "N6G08F1eZn4B"
      },
      "source": [
        "## Riemann Sums"
      ]
    },
    {
      "cell_type": "code",
      "metadata": {
        "id": "n6OjLIkKZn4B"
      },
      "source": [
        "from IPython.display import IFrame\n",
        "import numpy as np\n",
        "import matplotlib.pyplot as plt\n",
        "import pandas as pd\n",
        "pd.options.display.float_format = '{:,.10f}'.format"
      ],
      "execution_count": null,
      "outputs": []
    },
    {
      "cell_type": "code",
      "metadata": {
        "id": "ZV29z9L_Zn4B"
      },
      "source": [
        "drawing = IFrame(src = '', width = 400, height = 600)"
      ],
      "execution_count": null,
      "outputs": []
    },
    {
      "cell_type": "markdown",
      "metadata": {
        "id": "HElQ6pW3Zn4C"
      },
      "source": [
        "\n",
        "\n",
        "$${\\displaystyle S=\\sum _{i=1}^{n}f(x_{i}^{*})\\,\\Delta x_{i}}$$"
      ]
    },
    {
      "cell_type": "code",
      "metadata": {
        "colab": {
          "base_uri": "https://localhost:8080/",
          "height": 281
        },
        "id": "e8ltDLCbZn4C",
        "outputId": "5fda84e3-bc01-4fb5-f380-530c5ba0aa1b"
      },
      "source": [
        "def f(x): return x**2\n",
        "x = np.linspace(0, 1, 100)\n",
        "plt.plot(x, f(x))\n",
        "plt.axhline(color = 'black')\n",
        "for xval in [0, 0.2, 0.4, 0.6, 0.8, 1.0]:\n",
        "    plt.vlines(xval, 0, f(xval), color = 'black')\n",
        "x2 = np.array([0, 0.2, 0.4, 0.6, 0.8, 1.0])\n",
        "plt.step(x2, f(x2), where = 'post', color = 'black')\n",
        "plt.grid()\n",
        "plt.title('Left Handed Riemann Sum');"
      ],
      "execution_count": null,
      "outputs": [
        {
          "output_type": "display_data",
          "data": {
            "image/png": "[encoded data removed]",
            "text/plain": [
              "<Figure size 432x288 with 1 Axes>"
            ]
          },
          "metadata": {
            "tags": [],
            "needs_background": "light"
          }
        }
      ]
    },
    {
      "cell_type": "markdown",
      "metadata": {
        "id": "jBmsYtGkZn4D"
      },
      "source": [
        "### Symbolic Solution"
      ]
    },
    {
      "cell_type": "code",
      "metadata": {
        "id": "us6rYk5dZn4D"
      },
      "source": [
        "import sympy as sy"
      ],
      "execution_count": null,
      "outputs": []
    },
    {
      "cell_type": "code",
      "metadata": {
        "id": "ofWdbipiZn4D"
      },
      "source": [
        "x, p = sy.symbols('x p')"
      ],
      "execution_count": null,
      "outputs": []
    },
    {
      "cell_type": "code",
      "metadata": {
        "colab": {
          "base_uri": "https://localhost:8080/",
          "height": 54
        },
        "id": "ZudvH_FyZn4D",
        "outputId": "8b5779bc-3b3d-448b-d85d-18648791ce48"
      },
      "source": [
        "sy.integrate(x**2, x)"
      ],
      "execution_count": null,
      "outputs": [
        {
          "output_type": "execute_result",
          "data": {
            "text/latex": "$\\displaystyle \\frac{x^{3}}{3}$",
            "text/plain": [
              "x**3/3"
            ]
          },
          "metadata": {
            "tags": []
          },
          "execution_count": 7
        }
      ]
    },
    {
      "cell_type": "code",
      "metadata": {
        "colab": {
          "base_uri": "https://localhost:8080/",
          "height": 68
        },
        "id": "AtP3lm5jZn4E",
        "outputId": "bfa0dcec-b0e1-4bb4-e5e5-85dd0c237cb8"
      },
      "source": [
        "sy.integrate(x**p, x)"
      ],
      "execution_count": null,
      "outputs": [
        {
          "output_type": "execute_result",
          "data": {
            "text/latex": "$\\displaystyle \\begin{cases} \\frac{x^{p + 1}}{p + 1} & \\text{for}\\: p \\neq -1 \\\\\\log{\\left(x \\right)} & \\text{otherwise} \\end{cases}$",
            "text/plain": [
              "Piecewise((x**(p + 1)/(p + 1), Ne(p, -1)), (log(x), True))"
            ]
          },
          "metadata": {
            "tags": []
          },
          "execution_count": 8
        }
      ]
    },
    {
      "cell_type": "code",
      "metadata": {
        "colab": {
          "base_uri": "https://localhost:8080/",
          "height": 51
        },
        "id": "yJbrKlxvZn4E",
        "outputId": "68c549e4-8bd0-4266-88a0-cba19bfbc752"
      },
      "source": [
        "sy.integrate(x**2, (x, 0, 1))"
      ],
      "execution_count": null,
      "outputs": [
        {
          "output_type": "execute_result",
          "data": {
            "text/latex": "$\\displaystyle \\frac{1}{3}$",
            "text/plain": [
              "1/3"
            ]
          },
          "metadata": {
            "tags": []
          },
          "execution_count": 9
        }
      ]
    },
    {
      "cell_type": "markdown",
      "metadata": {
        "id": "d1Un5n0jZn4E"
      },
      "source": [
        "### Compare to our Approximation"
      ]
    },
    {
      "cell_type": "code",
      "metadata": {
        "id": "8nrVL3fNZn4E"
      },
      "source": [
        "def riemann(x, n):\n",
        "    '''\n",
        "    This function computes a left-handed\n",
        "    riemann approximation for area under\n",
        "    a function f over an interval x\n",
        "    ======\n",
        "    Arguments\n",
        "    x = array; domain of interest\n",
        "    n = integer; number of rectangles to use\n",
        "    ======\n",
        "    Returns\n",
        "    area = float; area approximation\n",
        "    '''\n",
        "    #find the width\n",
        "    width = (x[-1] - x[0])/n\n",
        "    #where we find heights\n",
        "    endpoints = [x[0] + width*i for i in range(n)]\n",
        "    #find the heights\n",
        "    heights = f(np.array(endpoints))\n",
        "    #total area\n",
        "    area = width*sum(heights)\n",
        "    return area"
      ],
      "execution_count": null,
      "outputs": []
    },
    {
      "cell_type": "code",
      "metadata": {
        "id": "xzslc9rdZn4E"
      },
      "source": [
        "x = np.linspace(0, 1, 100)"
      ],
      "execution_count": null,
      "outputs": []
    },
    {
      "cell_type": "code",
      "metadata": {
        "colab": {
          "base_uri": "https://localhost:8080/"
        },
        "id": "DXE862J3Zn4E",
        "outputId": "999c44a0-4295-4567-b90d-fb8226d4942c"
      },
      "source": [
        "#approximation with 4 rectangles\n",
        "riemann(x, 4)"
      ],
      "execution_count": null,
      "outputs": [
        {
          "output_type": "execute_result",
          "data": {
            "text/plain": [
              "0.21875"
            ]
          },
          "metadata": {
            "tags": []
          },
          "execution_count": 12
        }
      ]
    },
    {
      "cell_type": "code",
      "metadata": {
        "colab": {
          "base_uri": "https://localhost:8080/"
        },
        "id": "J3jooGbcZn4F",
        "outputId": "76caee21-9b9a-41b4-b2ed-541cf5cfcbcb"
      },
      "source": [
        "#error with 4 rectangles\n",
        "1/3 - riemann(x, 4)"
      ],
      "execution_count": null,
      "outputs": [
        {
          "output_type": "execute_result",
          "data": {
            "text/plain": [
              "0.11458333333333331"
            ]
          },
          "metadata": {
            "tags": []
          },
          "execution_count": 13
        }
      ]
    },
    {
      "cell_type": "code",
      "metadata": {
        "id": "lwmue5SQaDEU"
      },
      "source": [
        "divs = [4, 40, 400, 4000, 40_000, 400_000]"
      ],
      "execution_count": null,
      "outputs": []
    },
    {
      "cell_type": "code",
      "metadata": {
        "id": "JCHU0RyvZn4F"
      },
      "source": [
        "#approximations for many n's\n",
        "approxs = [riemann(x, i) for i in divs]\n",
        "#error in approximations\n",
        "errors = [1/3 - approx for approx in approxs]"
      ],
      "execution_count": null,
      "outputs": []
    },
    {
      "cell_type": "code",
      "metadata": {
        "id": "RSo2R539Zn4F"
      },
      "source": [
        "#dataframe of errors\n",
        "error_df = pd.DataFrame({'subdivisions': divs,\n",
        "                         'riemann_area': approxs,\n",
        "                         'riemann_error': errors})"
      ],
      "execution_count": null,
      "outputs": []
    },
    {
      "cell_type": "code",
      "metadata": {
        "colab": {
          "base_uri": "https://localhost:8080/",
          "height": 233
        },
        "id": "6mBlRQnAZn4F",
        "outputId": "a46b5f36-1ccb-4693-d04e-cf8cd4c82fc6"
      },
      "source": [
        "#examine the errors\n",
        "error_df"
      ],
      "execution_count": null,
      "outputs": [
        {
          "output_type": "execute_result",
          "data": {
            "text/html": [
              "<div>\n",
              "<style scoped>\n",
              "    .dataframe tbody tr th:only-of-type {\n",
              "        vertical-align: middle;\n",
              "    }\n",
              "\n",
              "    .dataframe tbody tr th {\n",
              "        vertical-align: top;\n",
              "    }\n",
              "\n",
              "    .dataframe thead th {\n",
              "        text-align: right;\n",
              "    }\n",
              "</style>\n",
              "<table border=\"1\" class=\"dataframe\">\n",
              "  <thead>\n",
              "    <tr style=\"text-align: right;\">\n",
              "      <th></th>\n",
              "      <th>subdivisions</th>\n",
              "      <th>riemann_area</th>\n",
              "      <th>riemann_error</th>\n",
              "    </tr>\n",
              "  </thead>\n",
              "  <tbody>\n",
              "    <tr>\n",
              "      <th>0</th>\n",
              "      <td>4</td>\n",
              "      <td>0.2187500000</td>\n",
              "      <td>0.1145833333</td>\n",
              "    </tr>\n",
              "    <tr>\n",
              "      <th>1</th>\n",
              "      <td>40</td>\n",
              "      <td>0.3209375000</td>\n",
              "      <td>0.0123958333</td>\n",
              "    </tr>\n",
              "    <tr>\n",
              "      <th>2</th>\n",
              "      <td>400</td>\n",
              "      <td>0.3320843750</td>\n",
              "      <td>0.0012489583</td>\n",
              "    </tr>\n",
              "    <tr>\n",
              "      <th>3</th>\n",
              "      <td>4000</td>\n",
              "      <td>0.3332083438</td>\n",
              "      <td>0.0001249896</td>\n",
              "    </tr>\n",
              "    <tr>\n",
              "      <th>4</th>\n",
              "      <td>40000</td>\n",
              "      <td>0.3333208334</td>\n",
              "      <td>0.0000124999</td>\n",
              "    </tr>\n",
              "    <tr>\n",
              "      <th>5</th>\n",
              "      <td>400000</td>\n",
              "      <td>0.3333320833</td>\n",
              "      <td>0.0000012500</td>\n",
              "    </tr>\n",
              "  </tbody>\n",
              "</table>\n",
              "</div>"
            ],
            "text/plain": [
              "   subdivisions  riemann_area  riemann_error\n",
              "0             4  0.2187500000   0.1145833333\n",
              "1            40  0.3209375000   0.0123958333\n",
              "2           400  0.3320843750   0.0012489583\n",
              "3          4000  0.3332083438   0.0001249896\n",
              "4         40000  0.3333208334   0.0000124999\n",
              "5        400000  0.3333320833   0.0000012500"
            ]
          },
          "metadata": {
            "tags": []
          },
          "execution_count": 17
        }
      ]
    },
    {
      "cell_type": "markdown",
      "metadata": {
        "id": "i6RLd8CgZn4F"
      },
      "source": [
        "### Trapezoid Rule\n",
        "\n",
        "<center>\n",
        " <img src = https://upload.wikimedia.org/wikipedia/commons/thumb/1/11/Trapezoid.svg/440px-Trapezoid.svg.png />\n",
        "</center>"
      ]
    },
    {
      "cell_type": "markdown",
      "metadata": {
        "id": "BeBvS96kZn4F"
      },
      "source": [
        "$$\\text{Area} = \\frac{a + b}{2} \\times h$$"
      ]
    },
    {
      "cell_type": "code",
      "metadata": {
        "colab": {
          "base_uri": "https://localhost:8080/",
          "height": 281
        },
        "id": "zjyW3l4yZn4G",
        "outputId": "1c91e3d8-2537-4443-af74-9cdcf5068691"
      },
      "source": [
        "def f(x): return x**2\n",
        "x = np.linspace(0, 1, 100)\n",
        "plt.plot(x, f(x))\n",
        "# plt.ylim(-2, 2)\n",
        "plt.axhline(color = 'black')\n",
        "for xval in [0, 0.2, 0.4, 0.6, 0.8, 1.0]:\n",
        "    plt.vlines(xval, 0, f(xval), color = 'black')\n",
        "x2 = np.array([0, 0.2, 0.4, 0.6, 0.8, 1.0])\n",
        "plt.plot(x2, f(x2), '-ro')\n",
        "plt.grid();\n",
        "plt.title('Trapezoidal Approximations of Area');"
      ],
      "execution_count": null,
      "outputs": [
        {
          "output_type": "display_data",
          "data": {
            "image/png": "[encoded data removed]",
            "text/plain": [
              "<Figure size 432x288 with 1 Axes>"
            ]
          },
          "metadata": {
            "tags": [],
            "needs_background": "light"
          }
        }
      ]
    },
    {
      "cell_type": "code",
      "metadata": {
        "id": "vTRYNPizZn4G"
      },
      "source": [
        "drawing"
      ],
      "execution_count": null,
      "outputs": []
    },
    {
      "cell_type": "code",
      "metadata": {
        "id": "lUnEpJ2XZn4G"
      },
      "source": [
        "#domain\n",
        "x = np.linspace(0, 1, 100)"
      ],
      "execution_count": null,
      "outputs": []
    },
    {
      "cell_type": "code",
      "metadata": {
        "id": "KL3iM2vqZn4G"
      },
      "source": [
        "#heights\n",
        "heights = f(x)"
      ],
      "execution_count": null,
      "outputs": []
    },
    {
      "cell_type": "code",
      "metadata": {
        "colab": {
          "base_uri": "https://localhost:8080/"
        },
        "id": "YmwrnmiOZn4G",
        "outputId": "c39d90c2-1fcd-411c-fbb3-b9ed195bad55"
      },
      "source": [
        "np.array([2*f(i) for i in x2[1:-1]])"
      ],
      "execution_count": null,
      "outputs": [
        {
          "output_type": "execute_result",
          "data": {
            "text/plain": [
              "array([0.08, 0.32, 0.72, 1.28])"
            ]
          },
          "metadata": {
            "tags": []
          },
          "execution_count": 21
        }
      ]
    },
    {
      "cell_type": "code",
      "metadata": {
        "colab": {
          "base_uri": "https://localhost:8080/"
        },
        "id": "Gjns757eZn4G",
        "outputId": "a39fbfa9-8c82-430e-974d-add9dd76a942"
      },
      "source": [
        "#areas\n",
        "sum(f(x2[0]) + np.array([2*f(i) for i in x2[1:-1]]) + f(x2[-1]) )"
      ],
      "execution_count": null,
      "outputs": [
        {
          "output_type": "execute_result",
          "data": {
            "text/plain": [
              "6.4"
            ]
          },
          "metadata": {
            "tags": []
          },
          "execution_count": 22
        }
      ]
    },
    {
      "cell_type": "code",
      "metadata": {
        "colab": {
          "base_uri": "https://localhost:8080/"
        },
        "id": "WzRQRbuAZn4G",
        "outputId": "eb4de280-572a-4b1f-ce9f-74aefdb90b5e"
      },
      "source": [
        ".2*sum(f(x2[0]) + np.array([2*f(i) for i in x2[1:-1]]) + f(x2[-1]) )"
      ],
      "execution_count": null,
      "outputs": [
        {
          "output_type": "execute_result",
          "data": {
            "text/plain": [
              "1.2800000000000002"
            ]
          },
          "metadata": {
            "tags": []
          },
          "execution_count": 23
        }
      ]
    },
    {
      "cell_type": "code",
      "metadata": {
        "colab": {
          "base_uri": "https://localhost:8080/"
        },
        "id": "JAsYRQVWZn4H",
        "outputId": "6b605a2d-dda0-4677-85b6-3a60427f4a06"
      },
      "source": [
        ".2/2*sum(f(x2[0]) + 2*f(x2[1:-1]) + f(x2[-1]))"
      ],
      "execution_count": null,
      "outputs": [
        {
          "output_type": "execute_result",
          "data": {
            "text/plain": [
              "0.6400000000000001"
            ]
          },
          "metadata": {
            "tags": []
          },
          "execution_count": 24
        }
      ]
    },
    {
      "cell_type": "code",
      "metadata": {
        "colab": {
          "base_uri": "https://localhost:8080/"
        },
        "id": "6scBypTzZn4H",
        "outputId": "2cb0f0e3-6301-4167-bc04-a9cd5bf7a90a"
      },
      "source": [
        "abs(1/3 - .2/2*sum(f(x2[0]) + 2*f(x2[1:-1]) + f(x2[-1])))"
      ],
      "execution_count": null,
      "outputs": [
        {
          "output_type": "execute_result",
          "data": {
            "text/plain": [
              "0.3066666666666668"
            ]
          },
          "metadata": {
            "tags": []
          },
          "execution_count": 26
        }
      ]
    },
    {
      "cell_type": "code",
      "metadata": {
        "id": "lCnfpxkQZn4H"
      },
      "source": [
        "def trapezoid_approx(x, n):\n",
        "    '''\n",
        "    This function computes a\n",
        "    trapezoidal approximation for\n",
        "    the area under function f on x\n",
        "    ======\n",
        "    Arguments\n",
        "    x = array; domain of interest\n",
        "    n = integer; number of trapezoids to use\n",
        "    ======\n",
        "    Returns\n",
        "    area = float; area approximation\n",
        "    '''\n",
        "    width = (x[-1] - x[0])/n\n",
        "    bases = np.array([x[0] + i*width for i in range(n + 1)])\n",
        "    heights = f(bases)\n",
        "    areas = f(heights[0]) + sum(2*(heights[1:-1])) + f(heights[-1])\n",
        "    return width/2*areas"
      ],
      "execution_count": null,
      "outputs": []
    },
    {
      "cell_type": "code",
      "metadata": {
        "colab": {
          "base_uri": "https://localhost:8080/"
        },
        "id": "f86hFE7KZn4H",
        "outputId": "09a6aa1d-3281-4481-d397-e238c87a6fd3"
      },
      "source": [
        "trapezoid_approx(x, 4)"
      ],
      "execution_count": null,
      "outputs": [
        {
          "output_type": "execute_result",
          "data": {
            "text/plain": [
              "0.34375"
            ]
          },
          "metadata": {
            "tags": []
          },
          "execution_count": 28
        }
      ]
    },
    {
      "cell_type": "code",
      "metadata": {
        "id": "N5MiYS9CZn4H"
      },
      "source": [
        "#approximations for many n's\n",
        "approxs = [trapezoid_approx(x, i) for i in [4, 40, 400, 4000, 40_000, 400_000]]\n",
        "#error in approximations\n",
        "errors = [round(abs(1/3 - approx), 10) for approx in approxs]"
      ],
      "execution_count": null,
      "outputs": []
    },
    {
      "cell_type": "code",
      "metadata": {
        "id": "JBgM-NtmZn4H"
      },
      "source": [
        "error_df['triangular_approximation'] = approxs\n",
        "error_df['triangular_errors'] = errors"
      ],
      "execution_count": null,
      "outputs": []
    },
    {
      "cell_type": "code",
      "metadata": {
        "colab": {
          "base_uri": "https://localhost:8080/",
          "height": 233
        },
        "id": "2vQBlW7pZn4I",
        "outputId": "54895ec8-2c74-4e82-ed29-e9ad3a71b709"
      },
      "source": [
        "error_df"
      ],
      "execution_count": null,
      "outputs": [
        {
          "output_type": "execute_result",
          "data": {
            "text/html": [
              "<div>\n",
              "<style scoped>\n",
              "    .dataframe tbody tr th:only-of-type {\n",
              "        vertical-align: middle;\n",
              "    }\n",
              "\n",
              "    .dataframe tbody tr th {\n",
              "        vertical-align: top;\n",
              "    }\n",
              "\n",
              "    .dataframe thead th {\n",
              "        text-align: right;\n",
              "    }\n",
              "</style>\n",
              "<table border=\"1\" class=\"dataframe\">\n",
              "  <thead>\n",
              "    <tr style=\"text-align: right;\">\n",
              "      <th></th>\n",
              "      <th>subdivisions</th>\n",
              "      <th>riemann_area</th>\n",
              "      <th>riemann_error</th>\n",
              "      <th>triangular_approximation</th>\n",
              "      <th>triangular_errors</th>\n",
              "    </tr>\n",
              "  </thead>\n",
              "  <tbody>\n",
              "    <tr>\n",
              "      <th>0</th>\n",
              "      <td>4</td>\n",
              "      <td>0.2187500000</td>\n",
              "      <td>0.1145833333</td>\n",
              "      <td>0.3437500000</td>\n",
              "      <td>0.0104166667</td>\n",
              "    </tr>\n",
              "    <tr>\n",
              "      <th>1</th>\n",
              "      <td>40</td>\n",
              "      <td>0.3209375000</td>\n",
              "      <td>0.0123958333</td>\n",
              "      <td>0.3334375000</td>\n",
              "      <td>0.0001041667</td>\n",
              "    </tr>\n",
              "    <tr>\n",
              "      <th>2</th>\n",
              "      <td>400</td>\n",
              "      <td>0.3320843750</td>\n",
              "      <td>0.0012489583</td>\n",
              "      <td>0.3333343750</td>\n",
              "      <td>0.0000010417</td>\n",
              "    </tr>\n",
              "    <tr>\n",
              "      <th>3</th>\n",
              "      <td>4000</td>\n",
              "      <td>0.3332083438</td>\n",
              "      <td>0.0001249896</td>\n",
              "      <td>0.3333333438</td>\n",
              "      <td>0.0000000104</td>\n",
              "    </tr>\n",
              "    <tr>\n",
              "      <th>4</th>\n",
              "      <td>40000</td>\n",
              "      <td>0.3333208334</td>\n",
              "      <td>0.0000124999</td>\n",
              "      <td>0.3333333334</td>\n",
              "      <td>0.0000000001</td>\n",
              "    </tr>\n",
              "    <tr>\n",
              "      <th>5</th>\n",
              "      <td>400000</td>\n",
              "      <td>0.3333320833</td>\n",
              "      <td>0.0000012500</td>\n",
              "      <td>0.3333333333</td>\n",
              "      <td>0.0000000000</td>\n",
              "    </tr>\n",
              "  </tbody>\n",
              "</table>\n",
              "</div>"
            ],
            "text/plain": [
              "   subdivisions  riemann_area  ...  triangular_approximation  triangular_errors\n",
              "0             4  0.2187500000  ...              0.3437500000       0.0104166667\n",
              "1            40  0.3209375000  ...              0.3334375000       0.0001041667\n",
              "2           400  0.3320843750  ...              0.3333343750       0.0000010417\n",
              "3          4000  0.3332083438  ...              0.3333333438       0.0000000104\n",
              "4         40000  0.3333208334  ...              0.3333333334       0.0000000001\n",
              "5        400000  0.3333320833  ...              0.3333333333       0.0000000000\n",
              "\n",
              "[6 rows x 5 columns]"
            ]
          },
          "metadata": {
            "tags": []
          },
          "execution_count": 31
        }
      ]
    },
    {
      "cell_type": "markdown",
      "metadata": {
        "id": "eXpVao_GZn4I"
      },
      "source": [
        "### Alternative Approach: Monte Carlo Integration\n",
        "\n",
        "<center>\n",
        " <img src = https://upload.wikimedia.org/wikipedia/commons/thumb/f/f3/Le_casino_de_Monte-Carlo.JPG/440px-Le_casino_de_Monte-Carlo.JPG />\n",
        " </center>"
      ]
    },
    {
      "cell_type": "code",
      "metadata": {
        "id": "9er4wT9zZn4I"
      },
      "source": [
        "x = np.linspace(0, 1, 1_000_000)"
      ],
      "execution_count": null,
      "outputs": []
    },
    {
      "cell_type": "code",
      "metadata": {
        "id": "uE2Vpq3lZn4I"
      },
      "source": [
        "random_x = np.random.choice(x)"
      ],
      "execution_count": null,
      "outputs": []
    },
    {
      "cell_type": "code",
      "metadata": {
        "colab": {
          "base_uri": "https://localhost:8080/",
          "height": 283
        },
        "id": "imFyTWDjZn4I",
        "outputId": "d1755be4-8eb4-48be-c5f2-7f634a9ecf13"
      },
      "source": [
        "plt.plot(x, f(x))\n",
        "plt.plot(random_x, f(random_x), 'o')\n",
        "plt.axhline(f(random_x))\n",
        "plt.fill_between(x, f(random_x), color = 'gray', alpha = 0.2)"
      ],
      "execution_count": null,
      "outputs": [
        {
          "output_type": "execute_result",
          "data": {
            "text/plain": [
              "<matplotlib.collections.PolyCollection at 0x7ff9700e45d0>"
            ]
          },
          "metadata": {
            "tags": []
          },
          "execution_count": 34
        },
        {
          "output_type": "display_data",
          "data": {
            "image/png": "[encoded data removed]",
            "text/plain": [
              "<Figure size 432x288 with 1 Axes>"
            ]
          },
          "metadata": {
            "tags": [],
            "needs_background": "light"
          }
        }
      ]
    },
    {
      "cell_type": "code",
      "metadata": {
        "colab": {
          "base_uri": "https://localhost:8080/",
          "height": 242
        },
        "id": "iaw11jUSZn4I",
        "outputId": "f68cce4a-5886-4af7-d9d3-3525784b9cf5"
      },
      "source": [
        "fig, ax = plt.subplots(1, 4, figsize = (20, 3))\n",
        "for i in range(4):\n",
        "    random_x = np.random.choice(x)\n",
        "    ax[i].plot(x, f(x))\n",
        "    ax[i].plot(random_x, f(random_x), 'o')\n",
        "    ax[i].axhline(f(random_x))\n",
        "    ax[i].fill_between(x, f(random_x), color = 'gray', alpha = 0.2)\n",
        "    ax[i].set_title(f'Approximation {i}\\nArea {f(random_x):.3f}')"
      ],
      "execution_count": null,
      "outputs": [
        {
          "output_type": "display_data",
          "data": {
            "image/png": "[encoded data removed]",
            "text/plain": [
              "<Figure size 1440x216 with 4 Axes>"
            ]
          },
          "metadata": {
            "tags": [],
            "needs_background": "light"
          }
        }
      ]
    },
    {
      "cell_type": "markdown",
      "metadata": {
        "id": "_7hOZE3VZn4I"
      },
      "source": [
        "$$\\text{Area} = \\frac{1}{n} \\sum_{i = 1}^n \\text{area}_i $$"
      ]
    },
    {
      "cell_type": "code",
      "metadata": {
        "colab": {
          "base_uri": "https://localhost:8080/",
          "height": 729
        },
        "id": "D7OhcD3fZn4I",
        "outputId": "89e7d215-4ca1-4f95-b04f-7226f2e581f2"
      },
      "source": [
        "fig, ax = plt.subplots(4, 4, figsize = (15, 10))\n",
        "for i in range(4):\n",
        "    for j in range(4):\n",
        "        random_x = np.random.choice(x)\n",
        "        ax[i,j].plot(x, f(x))\n",
        "        ax[i,j].plot(random_x, f(random_x), 'o')\n",
        "        ax[i,j].axhline(f(random_x))\n",
        "        ax[i,j].fill_between(x, f(random_x), color = 'gray', alpha = 0.2)\n",
        "        ax[i,j].set_title(f'Area {f(random_x):.3f}')\n",
        "fig.suptitle('More Approximations with Monte Carlo');\n",
        "plt.tight_layout();"
      ],
      "execution_count": null,
      "outputs": [
        {
          "output_type": "display_data",
          "data": {
            "image/png": "[encoded data removed]",
            "text/plain": [
              "<Figure size 1080x720 with 16 Axes>"
            ]
          },
          "metadata": {
            "tags": [],
            "needs_background": "light"
          }
        }
      ]
    },
    {
      "cell_type": "code",
      "metadata": {
        "colab": {
          "base_uri": "https://localhost:8080/"
        },
        "id": "uXM37DHUZn4J",
        "outputId": "340061f8-29d7-4689-ba5f-4026b9306d4e"
      },
      "source": [
        "np.random.choice(x, 100)"
      ],
      "execution_count": null,
      "outputs": [
        {
          "output_type": "execute_result",
          "data": {
            "text/plain": [
              "array([0.63276363, 0.62239162, 0.81056681, 0.96534197, 0.20526421,\n",
              "       0.93617794, 0.36864937, 0.82330782, 0.98721099, 0.47670648,\n",
              "       0.35847436, 0.15743816, 0.64761365, 0.94954195, 0.00899501,\n",
              "       0.52761053, 0.70638871, 0.46909147, 0.54883655, 0.87145487,\n",
              "       0.03677304, 0.06353406, 0.66364666, 0.23807224, 0.93090793,\n",
              "       0.14235614, 0.8048528 , 0.24085824, 0.76349876, 0.77057577,\n",
              "       0.3969084 , 0.84730085, 0.51175251, 0.57685858, 0.98883699,\n",
              "       0.08411908, 0.65380465, 0.54721155, 0.73700474, 0.21680222,\n",
              "       0.93030693, 0.89208089, 0.03598504, 0.72476372, 0.85242685,\n",
              "       0.97302297, 0.2984963 , 0.26800827, 0.52010852, 0.16647017,\n",
              "       0.45649546, 0.69246569, 0.46649247, 0.27791628, 0.72903373,\n",
              "       0.56444856, 0.44941745, 0.19464419, 0.43680244, 0.5002005 ,\n",
              "       0.25433225, 0.73574274, 0.38411538, 0.04510005, 0.02006302,\n",
              "       0.72876573, 0.31407531, 0.13782214, 0.17779518, 0.47953448,\n",
              "       0.04607205, 0.04396204, 0.23708024, 0.56016756, 0.63367263,\n",
              "       0.81576582, 0.87312387, 0.13208013, 0.95814096, 0.5027675 ,\n",
              "       0.999918  , 0.60613361, 0.86032086, 0.64148764, 0.10614011,\n",
              "       0.2953933 , 0.32273232, 0.10581711, 0.21349221, 0.5034625 ,\n",
              "       0.78301378, 0.92588693, 0.995673  , 0.51516052, 0.74407774,\n",
              "       0.83550084, 0.88106388, 0.998806  , 0.15586316, 0.04386004])"
            ]
          },
          "metadata": {
            "tags": []
          },
          "execution_count": 37
        }
      ]
    },
    {
      "cell_type": "code",
      "metadata": {
        "colab": {
          "base_uri": "https://localhost:8080/"
        },
        "id": "obLcQz8TZn4J",
        "outputId": "ac8a8353-0454-4d0c-f239-cac3b5c1a58e"
      },
      "source": [
        "np.mean(f(np.random.choice(x, 4)))"
      ],
      "execution_count": null,
      "outputs": [
        {
          "output_type": "execute_result",
          "data": {
            "text/plain": [
              "0.06952510155688357"
            ]
          },
          "metadata": {
            "tags": []
          },
          "execution_count": 39
        }
      ]
    },
    {
      "cell_type": "code",
      "metadata": {
        "id": "e1nPfpMcaZsa"
      },
      "source": [
        "def monte_carlo(x, n):\n",
        "  return np.mean(f(np.random.choice(x, n, replace=False)))"
      ],
      "execution_count": null,
      "outputs": []
    },
    {
      "cell_type": "code",
      "metadata": {
        "id": "4QsmESIDZn4J"
      },
      "source": [
        "approxs = [monte_carlo(x, i) for i in divs]\n",
        "errors = [abs(1/3 - approx) for approx in approxs]"
      ],
      "execution_count": null,
      "outputs": []
    },
    {
      "cell_type": "code",
      "metadata": {
        "id": "CO6iyozJZn4J"
      },
      "source": [
        "error_df['monte_carlo_approx'] = approxs\n",
        "error_df['monte_carlo_error'] = errors"
      ],
      "execution_count": null,
      "outputs": []
    },
    {
      "cell_type": "code",
      "metadata": {
        "colab": {
          "base_uri": "https://localhost:8080/",
          "height": 233
        },
        "id": "4zqoPSgkZn4J",
        "outputId": "d9b78b63-8369-4590-cf10-38092ccb84dd"
      },
      "source": [
        "error_df"
      ],
      "execution_count": null,
      "outputs": [
        {
          "output_type": "execute_result",
          "data": {
            "text/html": [
              "<div>\n",
              "<style scoped>\n",
              "    .dataframe tbody tr th:only-of-type {\n",
              "        vertical-align: middle;\n",
              "    }\n",
              "\n",
              "    .dataframe tbody tr th {\n",
              "        vertical-align: top;\n",
              "    }\n",
              "\n",
              "    .dataframe thead th {\n",
              "        text-align: right;\n",
              "    }\n",
              "</style>\n",
              "<table border=\"1\" class=\"dataframe\">\n",
              "  <thead>\n",
              "    <tr style=\"text-align: right;\">\n",
              "      <th></th>\n",
              "      <th>subdivisions</th>\n",
              "      <th>riemann_area</th>\n",
              "      <th>riemann_error</th>\n",
              "      <th>triangular_approximation</th>\n",
              "      <th>triangular_errors</th>\n",
              "      <th>monte_carlo_approx</th>\n",
              "      <th>monte_carlo_error</th>\n",
              "    </tr>\n",
              "  </thead>\n",
              "  <tbody>\n",
              "    <tr>\n",
              "      <th>0</th>\n",
              "      <td>4</td>\n",
              "      <td>0.2187500000</td>\n",
              "      <td>0.1145833333</td>\n",
              "      <td>0.3437500000</td>\n",
              "      <td>0.0104166667</td>\n",
              "      <td>0.4939531102</td>\n",
              "      <td>0.1606197768</td>\n",
              "    </tr>\n",
              "    <tr>\n",
              "      <th>1</th>\n",
              "      <td>40</td>\n",
              "      <td>0.3209375000</td>\n",
              "      <td>0.0123958333</td>\n",
              "      <td>0.3334375000</td>\n",
              "      <td>0.0001041667</td>\n",
              "      <td>0.3072897714</td>\n",
              "      <td>0.0260435619</td>\n",
              "    </tr>\n",
              "    <tr>\n",
              "      <th>2</th>\n",
              "      <td>400</td>\n",
              "      <td>0.3320843750</td>\n",
              "      <td>0.0012489583</td>\n",
              "      <td>0.3333343750</td>\n",
              "      <td>0.0000010417</td>\n",
              "      <td>0.3463238466</td>\n",
              "      <td>0.0129905132</td>\n",
              "    </tr>\n",
              "    <tr>\n",
              "      <th>3</th>\n",
              "      <td>4000</td>\n",
              "      <td>0.3332083438</td>\n",
              "      <td>0.0001249896</td>\n",
              "      <td>0.3333333438</td>\n",
              "      <td>0.0000000104</td>\n",
              "      <td>0.3426204609</td>\n",
              "      <td>0.0092871276</td>\n",
              "    </tr>\n",
              "    <tr>\n",
              "      <th>4</th>\n",
              "      <td>40000</td>\n",
              "      <td>0.3333208334</td>\n",
              "      <td>0.0000124999</td>\n",
              "      <td>0.3333333334</td>\n",
              "      <td>0.0000000001</td>\n",
              "      <td>0.3333702666</td>\n",
              "      <td>0.0000369333</td>\n",
              "    </tr>\n",
              "    <tr>\n",
              "      <th>5</th>\n",
              "      <td>400000</td>\n",
              "      <td>0.3333320833</td>\n",
              "      <td>0.0000012500</td>\n",
              "      <td>0.3333333333</td>\n",
              "      <td>0.0000000000</td>\n",
              "      <td>0.3333577952</td>\n",
              "      <td>0.0000244619</td>\n",
              "    </tr>\n",
              "  </tbody>\n",
              "</table>\n",
              "</div>"
            ],
            "text/plain": [
              "   subdivisions  riemann_area  ...  monte_carlo_approx  monte_carlo_error\n",
              "0             4  0.2187500000  ...        0.4939531102       0.1606197768\n",
              "1            40  0.3209375000  ...        0.3072897714       0.0260435619\n",
              "2           400  0.3320843750  ...        0.3463238466       0.0129905132\n",
              "3          4000  0.3332083438  ...        0.3426204609       0.0092871276\n",
              "4         40000  0.3333208334  ...        0.3333702666       0.0000369333\n",
              "5        400000  0.3333320833  ...        0.3333577952       0.0000244619\n",
              "\n",
              "[6 rows x 7 columns]"
            ]
          },
          "metadata": {
            "tags": []
          },
          "execution_count": 43
        }
      ]
    },
    {
      "cell_type": "markdown",
      "metadata": {
        "id": "hI8Gygn9bkH7"
      },
      "source": [
        "### Comparing Computation Time"
      ]
    },
    {
      "cell_type": "code",
      "metadata": {
        "colab": {
          "base_uri": "https://localhost:8080/"
        },
        "id": "1DKeAVj9ayfL",
        "outputId": "deac6004-2a3a-4f09-dfd4-e08a31202470"
      },
      "source": [
        "%%time\n",
        "riemann(x, 100_000)"
      ],
      "execution_count": null,
      "outputs": [
        {
          "output_type": "stream",
          "text": [
            "CPU times: user 125 ms, sys: 2.9 ms, total: 128 ms\n",
            "Wall time: 129 ms\n"
          ],
          "name": "stdout"
        },
        {
          "output_type": "execute_result",
          "data": {
            "text/plain": [
              "0.3333283333499996"
            ]
          },
          "metadata": {
            "tags": []
          },
          "execution_count": 44
        }
      ]
    },
    {
      "cell_type": "code",
      "metadata": {
        "colab": {
          "base_uri": "https://localhost:8080/"
        },
        "id": "vlGfLbFhayaz",
        "outputId": "cc4a08f0-5903-4718-cbb1-0c735008a438"
      },
      "source": [
        "%%time\n",
        "trapezoid_approx(x, 100_000)"
      ],
      "execution_count": null,
      "outputs": [
        {
          "output_type": "stream",
          "text": [
            "CPU times: user 114 ms, sys: 3.16 ms, total: 118 ms\n",
            "Wall time: 122 ms\n"
          ],
          "name": "stdout"
        },
        {
          "output_type": "execute_result",
          "data": {
            "text/plain": [
              "0.3333333333499996"
            ]
          },
          "metadata": {
            "tags": []
          },
          "execution_count": 45
        }
      ]
    },
    {
      "cell_type": "code",
      "metadata": {
        "colab": {
          "base_uri": "https://localhost:8080/"
        },
        "id": "G0CpJcrmayWl",
        "outputId": "a13ec0c2-0c31-4f9d-da2b-0dae02a54afd"
      },
      "source": [
        "%%time\n",
        "monte_carlo(x, 100_000)"
      ],
      "execution_count": null,
      "outputs": [
        {
          "output_type": "stream",
          "text": [
            "CPU times: user 39.8 ms, sys: 0 ns, total: 39.8 ms\n",
            "Wall time: 43.9 ms\n"
          ],
          "name": "stdout"
        },
        {
          "output_type": "execute_result",
          "data": {
            "text/plain": [
              "0.3328312897068973"
            ]
          },
          "metadata": {
            "tags": []
          },
          "execution_count": 46
        }
      ]
    },
    {
      "cell_type": "markdown",
      "metadata": {
        "id": "Nvm2P1ERZn4J"
      },
      "source": [
        "### Problems\n",
        "\n",
        "1. Compare the left-handed riemann approximation with $n = 100$, trapezoidal approximation with $n = 100$, and monte carlo approximation with $n = 100$ for the following functions on the given interval:\n",
        "\n",
        "- $f(x) = \\sin(\\sin(x) - x)dx \\quad [0, 2\\pi]$\n",
        "- $g(x) = \\cos^{2020}(x) dx \\quad [0, 2\\pi]$"
      ]
    },
    {
      "cell_type": "markdown",
      "metadata": {
        "id": "dm2VHMj0Zn4K"
      },
      "source": [
        "2. Approximating $\\pi$.  The circular region in the first quadrant can be defined by $y = \\sqrt{1 - x^2}$.  We can determine an approximation for $\\pi$ by doing the following:\n",
        "\n",
        "- Drop many random points on the square.\n",
        "- If the points are less than $\\sqrt{1 - x^2}$ we will count them, if they are outside the circle we will not\n",
        "- Determine the ratio of points dropped to points counted, multiply by 4\n",
        "\n",
        "Write a small python program to conduct this simulation and plot the results coloring the points accepted and rejected blue and red respectively.  How good was your approximation?"
      ]
    },
    {
      "cell_type": "markdown",
      "metadata": {
        "id": "nQz1XTAXcMR0"
      },
      "source": [
        "3. Read Metropolis' account of the history of Monte Carlo methods.  Write a brief response that contains your own summary of the history and your reaction to enjoyment of the reading. [Article: The Beginning of the Monte Carlo Method](https://permalink.lanl.gov/object/tr?what=info:lanl-repo/lareport/LA-UR-88-9067)"
      ]
    },
    {
      "cell_type": "code",
      "metadata": {
        "id": "CFRZLo0_Zn4K"
      },
      "source": [],
      "execution_count": null,
      "outputs": []
    },
    {
      "cell_type": "code",
      "metadata": {
        "id": "hsepDGSMZn4K"
      },
      "source": [],
      "execution_count": null,
      "outputs": []
    },
    {
      "cell_type": "code",
      "metadata": {
        "id": "UYG7995tZn4K"
      },
      "source": [],
      "execution_count": null,
      "outputs": []
    },
    {
      "cell_type": "code",
      "metadata": {
        "id": "ZSG0PhTzZn4K"
      },
      "source": [],
      "execution_count": null,
      "outputs": []
    },
    {
      "cell_type": "code",
      "metadata": {
        "id": "Xz4hiLMhZn4K"
      },
      "source": [],
      "execution_count": null,
      "outputs": []
    },
    {
      "cell_type": "code",
      "metadata": {
        "id": "FWPsDMxlZn4L"
      },
      "source": [],
      "execution_count": null,
      "outputs": []
    }
  ]
}